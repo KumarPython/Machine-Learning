{
  "nbformat": 4,
  "nbformat_minor": 0,
  "metadata": {
    "colab": {
      "name": "ML0.1- Numpy",
      "provenance": [],
      "collapsed_sections": [],
      "toc_visible": true
    },
    "kernelspec": {
      "name": "python3",
      "display_name": "Python 3"
    }
  },
  "cells": [
    {
      "cell_type": "markdown",
      "metadata": {
        "id": "ow3x0rSRkgbv"
      },
      "source": [
        "#**Numpy Tutorial**\n",
        "\n",
        "Numpy is a library for the Python programming language, adding support for large, multi-dimensional arrays and matrices, along with a large collection of high-level mathematical functions to operate on these arrays.\n",
        "\n",
        "While Python is slower in execution as compared to other languages like Fortran during looping, Numpy fastens Python’s operations by converting repetitive code to compiled form.\n",
        "\n",
        "A Numpy Array is very similar to a Python list with a special condition that all of its elements must be of the same type."
      ]
    },
    {
      "cell_type": "code",
      "metadata": {
        "id": "GHM9fcKHndzF"
      },
      "source": [
        "#Import Numpy Library\n",
        "import numpy as np"
      ],
      "execution_count": null,
      "outputs": []
    },
    {
      "cell_type": "markdown",
      "source": [
        "##**1-Creating a Vector**"
      ],
      "metadata": {
        "id": "P0_jDm0cBByA"
      }
    },
    {
      "cell_type": "code",
      "source": [
        "#Load Library\n",
        "import numpy as np\n",
        "\n",
        "#Create a vector as a Row\n",
        "vector_row = np.array([1,2,3])\n",
        "\n",
        "#Create vector as a Column\n",
        "vector_column = np.array([[1],[2],[3]])\n",
        "\n",
        "# vector_row\n",
        "vector_column"
      ],
      "metadata": {
        "colab": {
          "base_uri": "https://localhost:8080/"
        },
        "id": "WuhyNxJ1BZI4",
        "outputId": "5e368c68-5649-4d05-f061-a7ea561a438e"
      },
      "execution_count": null,
      "outputs": [
        {
          "output_type": "execute_result",
          "data": {
            "text/plain": [
              "array([[1],\n",
              "       [2],\n",
              "       [3]])"
            ]
          },
          "metadata": {},
          "execution_count": 4
        }
      ]
    },
    {
      "cell_type": "markdown",
      "source": [
        "##**2-Creating a Matrix**\n",
        "\n",
        "We Create a 2-D Array in Numpy and call it a Matrix. It contains 2 rows and 3 columns."
      ],
      "metadata": {
        "id": "CW0d1J3RCC6H"
      }
    },
    {
      "cell_type": "code",
      "source": [
        "#Load Library\n",
        "import numpy as np\n",
        "\n",
        "#Create a Matrix\n",
        "matrix = np.array([[1,2,3],[4,5,6]])\n",
        "print(matrix)\n",
        "\n",
        "# Find if a value exists in the array...Returns true if value exists else returns false\n",
        "print(2 in matrix)"
      ],
      "metadata": {
        "colab": {
          "base_uri": "https://localhost:8080/"
        },
        "id": "eqmPyX7-CS-7",
        "outputId": "8df27239-253d-40ce-b1c6-1c0f84873bc6"
      },
      "execution_count": null,
      "outputs": [
        {
          "output_type": "stream",
          "name": "stdout",
          "text": [
            "[[1 2 3]\n",
            " [4 5 6]]\n",
            "True\n"
          ]
        }
      ]
    },
    {
      "cell_type": "code",
      "source": [
        "# Array of zeros\n",
        "print(np.zeros(10))\n",
        "\n",
        "# Array of ones with type int\n",
        "print(np.ones(10, dtype=int))\n",
        "\n",
        "# Range of numbers\n",
        "rangeArray = np.array(range(10), int)\n",
        "print(rangeArray)"
      ],
      "metadata": {
        "colab": {
          "base_uri": "https://localhost:8080/"
        },
        "id": "dAcOciVnTMdx",
        "outputId": "deba5d52-03a8-4bba-cb49-1b9f470ab9b2"
      },
      "execution_count": null,
      "outputs": [
        {
          "output_type": "stream",
          "name": "stdout",
          "text": [
            "[0. 0. 0. 0. 0. 0. 0. 0. 0. 0.]\n",
            "[1 1 1 1 1 1 1 1 1 1]\n",
            "[0 1 2 3 4 5 6 7 8 9]\n"
          ]
        }
      ]
    },
    {
      "cell_type": "markdown",
      "source": [
        "##**3-Creating a Sparse Matrix**\n",
        "\n",
        "Sparse Matrices store only non zero elements and assume all other values will be zero, leading to significant computational savings."
      ],
      "metadata": {
        "id": "OgBeo78pCcys"
      }
    },
    {
      "cell_type": "code",
      "metadata": {
        "colab": {
          "base_uri": "https://localhost:8080/"
        },
        "id": "xrabjrzPtEVp",
        "outputId": "030e5bf3-a1bf-41ca-d8b7-449617ee2365"
      },
      "source": [
        "#Load Library\n",
        "import numpy as np\n",
        "from scipy import sparse\n",
        "\n",
        "#Create a Matrix\n",
        "matrix = np.array([[0,0],[0,1],[3,0]])\n",
        "print(matrix)\n",
        "\n",
        "#Create Compressed Sparse Row(CSR) matrix\n",
        "matrix_sparse = sparse.csr_matrix(matrix)\n",
        "print(matrix_sparse)"
      ],
      "execution_count": null,
      "outputs": [
        {
          "output_type": "stream",
          "name": "stdout",
          "text": [
            "[[0 0]\n",
            " [0 1]\n",
            " [3 0]]\n",
            "  (1, 1)\t1\n",
            "  (2, 0)\t3\n"
          ]
        }
      ]
    },
    {
      "cell_type": "markdown",
      "source": [
        "##**4-Selecting Elements**\n",
        "\n",
        "When you need to select one or more element in a vector or matrix\n",
        "\n",
        "We can index the elements. Index in numpy array also starts with 0, so matrix[0] refers to the first element that is 1. We can also define a range such as [:2] which prints all values at indices 0 to 1. Creating such an array is highly useful because of its immense potential just like simply checking for an element in the array.\n"
      ],
      "metadata": {
        "id": "ir-i4TPxDr8a"
      }
    },
    {
      "cell_type": "code",
      "metadata": {
        "colab": {
          "base_uri": "https://localhost:8080/"
        },
        "id": "5eHI3FUstvGK",
        "outputId": "5e89faa7-1ae3-4793-cfcf-f2ca00b7d8c8"
      },
      "source": [
        "#Load Library\n",
        "import numpy as np\n",
        "\n",
        "#Create a vector as a Row\n",
        "vector_row = np.array([ 1,2,3,4,5,6 ])\n",
        "\n",
        "#Create a Matrix\n",
        "matrix = np.array([[1,2,3],[4,5,6],[7,8,9]])\n",
        "print(matrix)\n",
        "\n",
        "#Select 3rd element of Vector\n",
        "print(vector_row[2])\n",
        "\n",
        "#Select 2nd row 2nd column\n",
        "print(matrix[1,1])\n",
        "\n",
        "#Select all elements of a vector\n",
        "print(vector_row[:])\n",
        "\n",
        "#Select everything up to and including the 3rd element\n",
        "print(vector_row[:3])\n",
        "\n",
        "#Select the everything after the 3rd element\n",
        "print(vector_row[3:])\n",
        "\n",
        "#Select the last element\n",
        "print(vector_row[-1])\n",
        "\n",
        "#Select the first 2 rows and all the columns of the matrix\n",
        "print(matrix[:2,:])\n",
        "\n",
        "#Select all rows and the 2nd column of the matrix\n",
        "print(matrix[:,1:2])"
      ],
      "execution_count": null,
      "outputs": [
        {
          "output_type": "stream",
          "name": "stdout",
          "text": [
            "[[1 2 3]\n",
            " [4 5 6]\n",
            " [7 8 9]]\n",
            "3\n",
            "5\n",
            "[1 2 3 4 5 6]\n",
            "[1 2 3]\n",
            "[4 5 6]\n",
            "6\n",
            "[[1 2 3]\n",
            " [4 5 6]]\n",
            "[[2]\n",
            " [5]\n",
            " [8]]\n"
          ]
        }
      ]
    },
    {
      "cell_type": "code",
      "metadata": {
        "colab": {
          "base_uri": "https://localhost:8080/"
        },
        "id": "7P9PWV53y469",
        "outputId": "d6388341-c528-49db-bda1-1b0e45d87d32"
      },
      "source": [
        "#Selects all rows from row0 onwards and all columns from column1 onwards\n",
        "arr2=arr1[0:,1:]\n",
        "arr2"
      ],
      "execution_count": null,
      "outputs": [
        {
          "output_type": "execute_result",
          "data": {
            "text/plain": [
              "array([[2, 3],\n",
              "       [5, 6]])"
            ]
          },
          "metadata": {
            "tags": []
          },
          "execution_count": 20
        }
      ]
    },
    {
      "cell_type": "code",
      "source": [
        "# Select the 2nd Row & 3rd Column Value\n",
        "matrix[1][2]"
      ],
      "metadata": {
        "colab": {
          "base_uri": "https://localhost:8080/"
        },
        "id": "dv-FXmt4GwTu",
        "outputId": "4646da99-8534-4928-8348-f16b2501e1f6"
      },
      "execution_count": null,
      "outputs": [
        {
          "output_type": "execute_result",
          "data": {
            "text/plain": [
              "6"
            ]
          },
          "metadata": {},
          "execution_count": 13
        }
      ]
    },
    {
      "cell_type": "markdown",
      "source": [
        "##**5-Describing a Matrix**\n",
        "\n",
        "When you want to know about the shape size and dimensions of a Matrix."
      ],
      "metadata": {
        "id": "TdDb3jOjErJm"
      }
    },
    {
      "cell_type": "code",
      "source": [
        "import numpy as np\n",
        "\n",
        "#Create a Matrix\n",
        "matrix = np.array([[1,2,3],[4,5,6],[7,8,9]])\n",
        "\n",
        "#View the Number of Rows and Columns\n",
        "print(matrix.shape)\n",
        "\n",
        "#View the number of elements (rows*columns)\n",
        "print(matrix.size)\n",
        "\n",
        "#View the number of Dimensions(2 in this case)\n",
        "print(matrix.ndim)"
      ],
      "metadata": {
        "colab": {
          "base_uri": "https://localhost:8080/"
        },
        "id": "xNk_GFyEE950",
        "outputId": "0995734f-3715-48c7-be73-87a9c5d43d35"
      },
      "execution_count": null,
      "outputs": [
        {
          "output_type": "stream",
          "name": "stdout",
          "text": [
            "(3, 3)\n",
            "9\n",
            "2\n"
          ]
        }
      ]
    },
    {
      "cell_type": "markdown",
      "source": [
        "##**6-Operations to Elements**\n",
        "\n",
        "You want to apply some function to multiple elements in an array.\n",
        "Numpy’s vectorize class converts a function into a function that can apply to multiple elements in an array or slice of an array."
      ],
      "metadata": {
        "id": "qnn7yzUOFQ-w"
      }
    },
    {
      "cell_type": "code",
      "source": [
        "#Load Library\n",
        "import numpy as np\n",
        "\n",
        "#Create a Matrix\n",
        "matrix = np.array([[1,2,3],[4,5,6],[7,8,9]])\n",
        "print(matrix)\n",
        "\n",
        "#Create a function that adds 100 to something\n",
        "add_100 =lambda i: i+100\n",
        "\n",
        "#Convert it into a vectorized function\n",
        "vectorized_add_100= np.vectorize(add_100)\n",
        "\n",
        "#Apply function to all elements in matrix\n",
        "print(vectorized_add_100(matrix))"
      ],
      "metadata": {
        "colab": {
          "base_uri": "https://localhost:8080/"
        },
        "id": "HdqwLJdiFf0f",
        "outputId": "3135b2bb-2ada-44b5-d319-91cd80133cd5"
      },
      "execution_count": null,
      "outputs": [
        {
          "output_type": "stream",
          "name": "stdout",
          "text": [
            "[[1 2 3]\n",
            " [4 5 6]\n",
            " [7 8 9]]\n",
            "[[101 102 103]\n",
            " [104 105 106]\n",
            " [107 108 109]]\n"
          ]
        }
      ]
    },
    {
      "cell_type": "markdown",
      "source": [
        "##**7-Max & Min values**\n",
        "\n",
        "We use Numpy’s max and min functions"
      ],
      "metadata": {
        "id": "MwjPXwTMFygJ"
      }
    },
    {
      "cell_type": "code",
      "source": [
        "#Load Library\n",
        "import numpy as np\n",
        "\n",
        "#Create a Matrix\n",
        "matrix = np.array([[1,2,3],[4,5,6],[7,8,9]])\n",
        "print(matrix)\n",
        "\n",
        "#Return the max element\n",
        "print(np.max(matrix))\n",
        "\n",
        "#Return the min element\n",
        "print(np.min(matrix))\n",
        "\n",
        "#To find the max element in each column\n",
        "print(np.max(matrix,axis=0))\n",
        "\n",
        "#To find the max element in each row\n",
        "print(np.max(matrix,axis=1))"
      ],
      "metadata": {
        "colab": {
          "base_uri": "https://localhost:8080/"
        },
        "id": "-J66uNaYHmJq",
        "outputId": "40783e70-4c0e-4e67-cff0-0a13c3403448"
      },
      "execution_count": null,
      "outputs": [
        {
          "output_type": "stream",
          "name": "stdout",
          "text": [
            "[[1 2 3]\n",
            " [4 5 6]\n",
            " [7 8 9]]\n",
            "9\n",
            "1\n",
            "[7 8 9]\n",
            "[3 6 9]\n"
          ]
        }
      ]
    },
    {
      "cell_type": "markdown",
      "source": [
        "##**8-Calc Avg, Var & Std Dev**\n",
        "\n",
        "When you want to calculate some descriptive statistics about an array"
      ],
      "metadata": {
        "id": "4nS_I1r0H7Tx"
      }
    },
    {
      "cell_type": "code",
      "source": [
        "#Load Library\n",
        "import numpy as np\n",
        "\n",
        "#Create a Matrix\n",
        "matrix = np.array([[1,2,3],[4,5,6],[7,8,9]])\n",
        "print(matrix)\n",
        "\n",
        "#Mean\n",
        "print(np.mean(matrix))\n",
        "\n",
        "#Standard Dev.\n",
        "print(np.std(matrix))\n",
        "\n",
        "#Variance\n",
        "print(np.var(matrix))"
      ],
      "metadata": {
        "colab": {
          "base_uri": "https://localhost:8080/"
        },
        "id": "M1L-jKUBIiYL",
        "outputId": "900a06b3-6819-492b-abdb-dfcaed0ecf31"
      },
      "execution_count": null,
      "outputs": [
        {
          "output_type": "stream",
          "name": "stdout",
          "text": [
            "[[1 2 3]\n",
            " [4 5 6]\n",
            " [7 8 9]]\n",
            "5.0\n",
            "2.581988897471611\n",
            "6.666666666666667\n"
          ]
        }
      ]
    },
    {
      "cell_type": "markdown",
      "source": [
        "##**9-Reshaping Arrays**\n",
        "\n",
        "When you want to reshape an array(changing the number of rows and columns) without changing the elements."
      ],
      "metadata": {
        "id": "zIc31DDDIxLV"
      }
    },
    {
      "cell_type": "code",
      "source": [
        "#Load Library\n",
        "import numpy as np\n",
        "\n",
        "#Create a Matrix\n",
        "matrix = np.array([[1,2,3],[4,5,6],[7,8,9]])\n",
        "print(matrix)\n",
        "\n",
        "#Reshape\n",
        "print(matrix.reshape(9,1))\n",
        "\n",
        "#Here -1 says as many columns as needed and 1 row\n",
        "print(matrix.reshape(1,-1))\n",
        "\n",
        "#If we provide only 1 value Reshape would return a 1-d array of that length\n",
        "print(matrix.reshape(9))\n",
        "\n",
        "#We can also use the Flatten method to convert a matrix to 1-d array\n",
        "print(matrix.flatten())"
      ],
      "metadata": {
        "colab": {
          "base_uri": "https://localhost:8080/"
        },
        "id": "KwqLJXuyJAYT",
        "outputId": "85aafd6d-f63a-4e35-8b77-d8352245522d"
      },
      "execution_count": null,
      "outputs": [
        {
          "output_type": "stream",
          "name": "stdout",
          "text": [
            "[[1 2 3]\n",
            " [4 5 6]\n",
            " [7 8 9]]\n",
            "[[1]\n",
            " [2]\n",
            " [3]\n",
            " [4]\n",
            " [5]\n",
            " [6]\n",
            " [7]\n",
            " [8]\n",
            " [9]]\n",
            "[[1 2 3 4 5 6 7 8 9]]\n",
            "[1 2 3 4 5 6 7 8 9]\n",
            "[1 2 3 4 5 6 7 8 9]\n"
          ]
        }
      ]
    },
    {
      "cell_type": "markdown",
      "source": [
        "##**10-Transposing**\n",
        "\n",
        "By transposing you interchange the rows and columns of a Matrix"
      ],
      "metadata": {
        "id": "IhS2qg3lKJbm"
      }
    },
    {
      "cell_type": "code",
      "source": [
        "#Load Library\n",
        "import numpy as np\n",
        "\n",
        "#Create a Matrix\n",
        "matrix = np.array([[1,2,3],[4,5,6],[7,8,9]])\n",
        "print(matrix)\n",
        "\n",
        "#Transpose the matrix\n",
        "print(matrix.T)"
      ],
      "metadata": {
        "colab": {
          "base_uri": "https://localhost:8080/"
        },
        "id": "Ble7VK8QKnoV",
        "outputId": "dd0b8994-61e5-4323-b243-247a9280205f"
      },
      "execution_count": null,
      "outputs": [
        {
          "output_type": "stream",
          "name": "stdout",
          "text": [
            "[[1 2 3]\n",
            " [4 5 6]\n",
            " [7 8 9]]\n",
            "[[1 4 7]\n",
            " [2 5 8]\n",
            " [3 6 9]]\n"
          ]
        }
      ]
    },
    {
      "cell_type": "markdown",
      "source": [
        "##**11-Determinant & Rank**\n",
        "\n",
        "The rank of a Matrix is the number of dimensions of the vector space spanned by its rows or columns"
      ],
      "metadata": {
        "id": "gl1T8SwhK2Y0"
      }
    },
    {
      "cell_type": "code",
      "source": [
        "#Load Library\n",
        "import numpy as np\n",
        "\n",
        "#Create a Matrix\n",
        "matrix = np.array([[1,2,3],[4,5,6],[7,8,9]])\n",
        "print(matrix)\n",
        "\n",
        "#Calculate the Determinant\n",
        "print(np.linalg.det(matrix))\n",
        "\n",
        "#Calculate the Rank\n",
        "print(np.linalg.matrix_rank(matrix))"
      ],
      "metadata": {
        "colab": {
          "base_uri": "https://localhost:8080/"
        },
        "id": "_6xAtq99LMWc",
        "outputId": "b80bf2cc-551a-482f-ceac-d5dcc1a3fab1"
      },
      "execution_count": null,
      "outputs": [
        {
          "output_type": "stream",
          "name": "stdout",
          "text": [
            "[[1 2 3]\n",
            " [4 5 6]\n",
            " [7 8 9]]\n",
            "0.0\n",
            "2\n"
          ]
        }
      ]
    },
    {
      "cell_type": "markdown",
      "source": [
        "##**12-Diagonal**\n",
        "\n",
        "When you need to extract only the diagonal elements of a matrix"
      ],
      "metadata": {
        "id": "2_bj3IH4Lbhe"
      }
    },
    {
      "cell_type": "code",
      "source": [
        "#Load Library\n",
        "import numpy as np\n",
        "\n",
        "#Create a Matrix\n",
        "matrix = np.array([[1,2,3],[4,5,6],[7,8,9]])\n",
        "print(matrix)\n",
        "\n",
        "#Print the Principal diagonal\n",
        "print(matrix.diagonal())\n",
        "\n",
        "#Print the diagonal one above the Principal diagonal\n",
        "print(matrix.diagonal(offset=1))\n",
        "\n",
        "#Print the diagonal one below Principal diagonal\n",
        "print(matrix.diagonal(offset=-1))"
      ],
      "metadata": {
        "colab": {
          "base_uri": "https://localhost:8080/"
        },
        "id": "Q4sFaOg-LxRs",
        "outputId": "85cf7490-9d90-45fd-8b10-028ba364c152"
      },
      "execution_count": null,
      "outputs": [
        {
          "output_type": "stream",
          "name": "stdout",
          "text": [
            "[[1 2 3]\n",
            " [4 5 6]\n",
            " [7 8 9]]\n",
            "[1 5 9]\n",
            "[2 6]\n",
            "[4 8]\n"
          ]
        }
      ]
    },
    {
      "cell_type": "markdown",
      "source": [
        "##**13-Trace**\n",
        "\n",
        "Trace of a Matrix is the sum of elements on the Principal Diagonal of the Matrix."
      ],
      "metadata": {
        "id": "mQjgw59jMNnz"
      }
    },
    {
      "cell_type": "code",
      "source": [
        "#Load Library\n",
        "import numpy as np\n",
        "\n",
        "#Create a Matrix\n",
        "matrix = np.array([[1,2,3],[4,5,6],[7,8,9]])\n",
        "print(matrix)\n",
        "\n",
        "#Print the Trace\n",
        "print(matrix.trace())"
      ],
      "metadata": {
        "colab": {
          "base_uri": "https://localhost:8080/"
        },
        "id": "qcAiUTy9Mjvg",
        "outputId": "bb6636c0-c6a0-4190-ad50-141d44040816"
      },
      "execution_count": null,
      "outputs": [
        {
          "output_type": "stream",
          "name": "stdout",
          "text": [
            "[[1 2 3]\n",
            " [4 5 6]\n",
            " [7 8 9]]\n",
            "15\n"
          ]
        }
      ]
    },
    {
      "cell_type": "markdown",
      "source": [
        "##**14-Eigenvalues & Eigenvectors**\n",
        "\n",
        "Eigenvectors are widely used in Machine Learning libraries. Intutively given a linear transformation represented by a matrix,A, eigenvectors are vectors that when that transformation is applied, change only in scale(not direction).More formally\n",
        "Av=Kv"
      ],
      "metadata": {
        "id": "MYFouoN3MwWP"
      }
    },
    {
      "cell_type": "code",
      "source": [
        "#Load Library\n",
        "import numpy as np\n",
        "\n",
        "#Create a Matrix\n",
        "matrix = np.array([[1,2,3],[4,5,6],[7,8,9]])\n",
        "print(matrix)\n",
        "\n",
        "# Calculate the Eigenvalues and Eigenvectors of that Matrix\n",
        "eigenvalues ,eigenvectors=np.linalg.eig(matrix)\n",
        "print(eigenvalues)\n",
        "print(eigenvectors)"
      ],
      "metadata": {
        "colab": {
          "base_uri": "https://localhost:8080/"
        },
        "id": "xBP21FXUNWyi",
        "outputId": "d53b75f3-9741-4020-e04e-224e687a81fa"
      },
      "execution_count": null,
      "outputs": [
        {
          "output_type": "stream",
          "name": "stdout",
          "text": [
            "[[1 2 3]\n",
            " [4 5 6]\n",
            " [7 8 9]]\n",
            "[ 1.61168440e+01 -1.11684397e+00 -1.30367773e-15]\n",
            "[[-0.23197069 -0.78583024  0.40824829]\n",
            " [-0.52532209 -0.08675134 -0.81649658]\n",
            " [-0.8186735   0.61232756  0.40824829]]\n"
          ]
        }
      ]
    },
    {
      "cell_type": "markdown",
      "source": [
        "##**15-Dot & Cross Products**"
      ],
      "metadata": {
        "id": "IEzNq39iNoW8"
      }
    },
    {
      "cell_type": "code",
      "source": [
        "#Load Library\n",
        "import numpy as np\n",
        "\n",
        "#Create vector-1\n",
        "vector_1 = np.array([ 1,2,3 ])\n",
        "#Create vector-2\n",
        "vector_2 = np.array([ 4,5,6 ])\n",
        "\n",
        "#Calculate Dot Product\n",
        "print(\"Dot Product:\",np.dot(vector_1,vector_2))\n",
        "\n",
        "#Alternatively you can use @ to calculate dot products\n",
        "print(\"Dot Product using @:\",vector_1 @ vector_2)\n",
        "\n",
        "# Cross operator\n",
        "print(\"Cross Product:\",np.cross(vector_1,vector_2))"
      ],
      "metadata": {
        "colab": {
          "base_uri": "https://localhost:8080/"
        },
        "id": "dt4I2EhhN2Hn",
        "outputId": "c8c3add7-6014-4bff-a854-8862f223219f"
      },
      "execution_count": null,
      "outputs": [
        {
          "output_type": "stream",
          "name": "stdout",
          "text": [
            "Dot Product: 32\n",
            "Dot Product using @: 32\n",
            "Cross Product: [-3  6 -3]\n"
          ]
        }
      ]
    },
    {
      "cell_type": "markdown",
      "source": [
        "##**16-Add, Subtract, Multiply, Sort, nUnique**\n",
        "\n",
        "Numpy overloads all basic functions so that they can operate on arrays for example the plus operator +, multiply operator * etc. are all overloaded for arrays. Special functions such as square root and log are also available. These operations occur element-wise, thus when interacting with multiple arrays, they must all have same shape. There are many other operations possible such as exp, sin, cos, tan, and abs. We can also sort(), find min() and max(), determine unique() values, diagonal() elements of a matrix and sort() elements. If we add arg in front of min or max, we can also get the index of the minimum or maximum value in the array."
      ],
      "metadata": {
        "id": "SJ4GrI5bOMCb"
      }
    },
    {
      "cell_type": "code",
      "source": [
        "#Load Library\n",
        "import numpy as np\n",
        "\n",
        "#Create Matrix\n",
        "matrix_1 = np.array([[1,2,3],[4,5,6],[7,8,9]])\n",
        "matrix_2 = np.array([[7,8,9],[4,5,6],[1,2,3]])\n",
        "\n",
        "#Add the 2 Matrices\n",
        "print(np.add(matrix_1,matrix_2))\n",
        "\n",
        "#Subtraction\n",
        "print(np.subtract(matrix_1,matrix_2))\n",
        "\n",
        "#Multiplication(Element wise, not Dot Product)\n",
        "print(matrix_1*matrix_2)\n",
        "\n",
        "# Get unqiue values\n",
        "print(f\"Unique values: {np.unique(matrix_1)}\")\n",
        "\n",
        "# Sort values in the multidimensional array\n",
        "print(f\"Sorted:{np.sort(matrix_1)}\")"
      ],
      "metadata": {
        "colab": {
          "base_uri": "https://localhost:8080/"
        },
        "id": "GXj1f2iuOjTE",
        "outputId": "de764786-e1ea-42d0-b107-71febc716337"
      },
      "execution_count": null,
      "outputs": [
        {
          "output_type": "stream",
          "name": "stdout",
          "text": [
            "[[ 8 10 12]\n",
            " [ 8 10 12]\n",
            " [ 8 10 12]]\n",
            "[[-6 -6 -6]\n",
            " [ 0  0  0]\n",
            " [ 6  6  6]]\n",
            "[[ 7 16 27]\n",
            " [16 25 36]\n",
            " [ 7 16 27]]\n",
            "Unique values: [1 2 3 4 5 6 7 8 9]\n",
            "Sorted:[[1 2 3]\n",
            " [4 5 6]\n",
            " [7 8 9]]\n"
          ]
        }
      ]
    },
    {
      "cell_type": "markdown",
      "source": [
        "##**ArgPartition, Allclose, Clip, Extract, Where, Percentile**\n",
        "\n",
        "* NumPy has this amazing function which can find N largest values index. The output will be the N largest values index, and then we can sort the values if needed.\n",
        "\n",
        "* Allclose() is used for matching two arrays and getting the output in terms of a boolean value. It will return False if items in two arrays are not equal within a tolerance. It is a great way to check if two arrays are similar, which can actually be difficult to implement manually.\n",
        "\n",
        "* Clip() is used to keep values in an array within an interval. Sometimes, we need to keep the values within an upper and lower limit. For the mentioned purpose, we can make use of NumPy’s clip(). Given an interval, values outside the interval are clipped to the interval edges.\n",
        "\n",
        "* Extract() as the name goes, is used to extract specific elements from an array based on a certain condition. With extract(), we can also use conditions like and and or.\n",
        "\n",
        "* Where() is used to return elements from an array that satisfy a certain condition. It returns the index position of values that fall in a certain condition. This is almost similar to the where condition that we use in SQL\n",
        "\n",
        "* Percentile() is used to compute the nth percentile of the array elements along the specified axis."
      ],
      "metadata": {
        "id": "ntw3OwU-axxk"
      }
    },
    {
      "cell_type": "code",
      "source": [
        "# Argpartition \n",
        "x = np.array([12, 10, 12, 0, 6, 8, 9, 1, 16, 4, 6, 0])\n",
        "index_val = np.argpartition(x, -4)[-4:]\n",
        "\n",
        "np.sort(x[index_val])"
      ],
      "metadata": {
        "colab": {
          "base_uri": "https://localhost:8080/"
        },
        "id": "JGpb5ev8f-oU",
        "outputId": "f4809116-0332-4314-bbe4-aef97987239f"
      },
      "execution_count": null,
      "outputs": [
        {
          "output_type": "execute_result",
          "data": {
            "text/plain": [
              "array([10, 12, 12, 16])"
            ]
          },
          "metadata": {},
          "execution_count": 50
        }
      ]
    },
    {
      "cell_type": "code",
      "source": [
        "# AllClose\n",
        "array1 = np.array([0.12,0.17,0.24,0.29])\n",
        "array2 = np.array([0.13,0.19,0.26,0.31])\n",
        "\n",
        "# with a tolerance of 0.1, it should return False:\n",
        "print(np.allclose(array1,array2,0.1))\n",
        "\n",
        "# with a tolerance of 0.2, it should return True:\n",
        "print(np.allclose(array1,array2,0.2))"
      ],
      "metadata": {
        "colab": {
          "base_uri": "https://localhost:8080/"
        },
        "id": "GGY16xrZgv4a",
        "outputId": "82f4edd8-2431-4d21-adc8-85c0fc716cf5"
      },
      "execution_count": null,
      "outputs": [
        {
          "output_type": "stream",
          "name": "stdout",
          "text": [
            "False\n",
            "True\n"
          ]
        }
      ]
    },
    {
      "cell_type": "code",
      "source": [
        "# Clip\n",
        "x = np.array([3, 17, 14, 23, 2, 2, 6, 8, 1, 2, 16, 0])\n",
        "np.clip(x,2,5)"
      ],
      "metadata": {
        "colab": {
          "base_uri": "https://localhost:8080/"
        },
        "id": "6TDjS2WKiGym",
        "outputId": "501a5af1-afd0-4b51-80f6-fdc91022d779"
      },
      "execution_count": null,
      "outputs": [
        {
          "output_type": "execute_result",
          "data": {
            "text/plain": [
              "array([3, 5, 5, 5, 2, 2, 5, 5, 2, 2, 5, 2])"
            ]
          },
          "metadata": {},
          "execution_count": 52
        }
      ]
    },
    {
      "cell_type": "code",
      "source": [
        "# Apply condition on extract directly\n",
        "array = np.random.randint(20, size=12)\n",
        "np.extract(((array < 3) | (array > 15)), array)"
      ],
      "metadata": {
        "colab": {
          "base_uri": "https://localhost:8080/"
        },
        "id": "UuRJl6LMivsc",
        "outputId": "1dd21b30-ec35-4f7a-864c-bbcfe42e3850"
      },
      "execution_count": null,
      "outputs": [
        {
          "output_type": "execute_result",
          "data": {
            "text/plain": [
              "array([17, 16, 19, 18,  0])"
            ]
          },
          "metadata": {},
          "execution_count": 54
        }
      ]
    },
    {
      "cell_type": "code",
      "source": [
        "# Where\n",
        "y = np.array([1,5,6,8,1,7,3,6,9])\n",
        "\n",
        "# First will replace the values that match the condition, \n",
        "# second will replace the values that does not\n",
        "np.where(y>5, \"Hit\", \"Miss\")"
      ],
      "metadata": {
        "colab": {
          "base_uri": "https://localhost:8080/"
        },
        "id": "LzOHeE2vjNzE",
        "outputId": "8cf0f62f-9f9e-4145-febc-4998dd72e69c"
      },
      "execution_count": null,
      "outputs": [
        {
          "output_type": "execute_result",
          "data": {
            "text/plain": [
              "array(['Miss', 'Miss', 'Hit', 'Hit', 'Miss', 'Hit', 'Miss', 'Hit', 'Hit'],\n",
              "      dtype='<U4')"
            ]
          },
          "metadata": {},
          "execution_count": 56
        }
      ]
    },
    {
      "cell_type": "code",
      "source": [
        "# Percentile\n",
        "\n",
        "#50th Percentile of a, axis = 0 :  6.0\n",
        "a = np.array([1,5,6,8,1,7,3,6,9])\n",
        "print(\"50th Percentile of a, axis = 0 : \",np.percentile(a, 50, axis =0))\n",
        "\n",
        "#30th Percentile of b, axis = 0\n",
        "b = np.array([[10, 7, 4], [3, 2, 1]])\n",
        "print(\"30th Percentile of b, axis = 0 : \", np.percentile(b, 30, axis =0))"
      ],
      "metadata": {
        "colab": {
          "base_uri": "https://localhost:8080/"
        },
        "id": "BzKaNshSkXmS",
        "outputId": "2ecec3e4-ed77-4035-e089-08b380b1691a"
      },
      "execution_count": null,
      "outputs": [
        {
          "output_type": "stream",
          "name": "stdout",
          "text": [
            "50th Percentile of a, axis = 0 :  6.0\n",
            "30th Percentile of b, axis = 0 :  [5.1 3.5 1.9]\n"
          ]
        }
      ]
    },
    {
      "cell_type": "markdown",
      "source": [
        "##**18-Inverse**\n",
        "\n",
        "This is used when you want to calculate the inverse of a Square Matrix"
      ],
      "metadata": {
        "id": "T8gmIFAKO4Qh"
      }
    },
    {
      "cell_type": "code",
      "source": [
        "#Load Library\n",
        "import numpy as np\n",
        "\n",
        "#Create a Matrix\n",
        "matrix = np.array([[1,2,3],[4,5,6],[7,8,9]])\n",
        "print(matrix)\n",
        "\n",
        "#Calculate its inverse\n",
        "print(np.linalg.inv(matrix))"
      ],
      "metadata": {
        "colab": {
          "base_uri": "https://localhost:8080/",
          "height": 432
        },
        "id": "HrlZcoTUPSVc",
        "outputId": "09f73e5a-37ab-4d07-cfac-03a8a4d1e462"
      },
      "execution_count": null,
      "outputs": [
        {
          "output_type": "stream",
          "name": "stdout",
          "text": [
            "[[1 2 3]\n",
            " [4 5 6]\n",
            " [7 8 9]]\n"
          ]
        },
        {
          "output_type": "error",
          "ename": "LinAlgError",
          "evalue": "ignored",
          "traceback": [
            "\u001b[0;31m---------------------------------------------------------------------------\u001b[0m",
            "\u001b[0;31mLinAlgError\u001b[0m                               Traceback (most recent call last)",
            "\u001b[0;32m<ipython-input-28-56af6b70788b>\u001b[0m in \u001b[0;36m<module>\u001b[0;34m()\u001b[0m\n\u001b[1;32m      7\u001b[0m \u001b[0;34m\u001b[0m\u001b[0m\n\u001b[1;32m      8\u001b[0m \u001b[0;31m#Calculate its inverse\u001b[0m\u001b[0;34m\u001b[0m\u001b[0;34m\u001b[0m\u001b[0;34m\u001b[0m\u001b[0m\n\u001b[0;32m----> 9\u001b[0;31m \u001b[0mprint\u001b[0m\u001b[0;34m(\u001b[0m\u001b[0mnp\u001b[0m\u001b[0;34m.\u001b[0m\u001b[0mlinalg\u001b[0m\u001b[0;34m.\u001b[0m\u001b[0minv\u001b[0m\u001b[0;34m(\u001b[0m\u001b[0mmatrix\u001b[0m\u001b[0;34m)\u001b[0m\u001b[0;34m)\u001b[0m\u001b[0;34m\u001b[0m\u001b[0;34m\u001b[0m\u001b[0m\n\u001b[0m",
            "\u001b[0;32m<__array_function__ internals>\u001b[0m in \u001b[0;36minv\u001b[0;34m(*args, **kwargs)\u001b[0m\n",
            "\u001b[0;32m/usr/local/lib/python3.7/dist-packages/numpy/linalg/linalg.py\u001b[0m in \u001b[0;36minv\u001b[0;34m(a)\u001b[0m\n\u001b[1;32m    543\u001b[0m     \u001b[0msignature\u001b[0m \u001b[0;34m=\u001b[0m \u001b[0;34m'D->D'\u001b[0m \u001b[0;32mif\u001b[0m \u001b[0misComplexType\u001b[0m\u001b[0;34m(\u001b[0m\u001b[0mt\u001b[0m\u001b[0;34m)\u001b[0m \u001b[0;32melse\u001b[0m \u001b[0;34m'd->d'\u001b[0m\u001b[0;34m\u001b[0m\u001b[0;34m\u001b[0m\u001b[0m\n\u001b[1;32m    544\u001b[0m     \u001b[0mextobj\u001b[0m \u001b[0;34m=\u001b[0m \u001b[0mget_linalg_error_extobj\u001b[0m\u001b[0;34m(\u001b[0m\u001b[0m_raise_linalgerror_singular\u001b[0m\u001b[0;34m)\u001b[0m\u001b[0;34m\u001b[0m\u001b[0;34m\u001b[0m\u001b[0m\n\u001b[0;32m--> 545\u001b[0;31m     \u001b[0mainv\u001b[0m \u001b[0;34m=\u001b[0m \u001b[0m_umath_linalg\u001b[0m\u001b[0;34m.\u001b[0m\u001b[0minv\u001b[0m\u001b[0;34m(\u001b[0m\u001b[0ma\u001b[0m\u001b[0;34m,\u001b[0m \u001b[0msignature\u001b[0m\u001b[0;34m=\u001b[0m\u001b[0msignature\u001b[0m\u001b[0;34m,\u001b[0m \u001b[0mextobj\u001b[0m\u001b[0;34m=\u001b[0m\u001b[0mextobj\u001b[0m\u001b[0;34m)\u001b[0m\u001b[0;34m\u001b[0m\u001b[0;34m\u001b[0m\u001b[0m\n\u001b[0m\u001b[1;32m    546\u001b[0m     \u001b[0;32mreturn\u001b[0m \u001b[0mwrap\u001b[0m\u001b[0;34m(\u001b[0m\u001b[0mainv\u001b[0m\u001b[0;34m.\u001b[0m\u001b[0mastype\u001b[0m\u001b[0;34m(\u001b[0m\u001b[0mresult_t\u001b[0m\u001b[0;34m,\u001b[0m \u001b[0mcopy\u001b[0m\u001b[0;34m=\u001b[0m\u001b[0;32mFalse\u001b[0m\u001b[0;34m)\u001b[0m\u001b[0;34m)\u001b[0m\u001b[0;34m\u001b[0m\u001b[0;34m\u001b[0m\u001b[0m\n\u001b[1;32m    547\u001b[0m \u001b[0;34m\u001b[0m\u001b[0m\n",
            "\u001b[0;32m/usr/local/lib/python3.7/dist-packages/numpy/linalg/linalg.py\u001b[0m in \u001b[0;36m_raise_linalgerror_singular\u001b[0;34m(err, flag)\u001b[0m\n\u001b[1;32m     86\u001b[0m \u001b[0;34m\u001b[0m\u001b[0m\n\u001b[1;32m     87\u001b[0m \u001b[0;32mdef\u001b[0m \u001b[0m_raise_linalgerror_singular\u001b[0m\u001b[0;34m(\u001b[0m\u001b[0merr\u001b[0m\u001b[0;34m,\u001b[0m \u001b[0mflag\u001b[0m\u001b[0;34m)\u001b[0m\u001b[0;34m:\u001b[0m\u001b[0;34m\u001b[0m\u001b[0;34m\u001b[0m\u001b[0m\n\u001b[0;32m---> 88\u001b[0;31m     \u001b[0;32mraise\u001b[0m \u001b[0mLinAlgError\u001b[0m\u001b[0;34m(\u001b[0m\u001b[0;34m\"Singular matrix\"\u001b[0m\u001b[0;34m)\u001b[0m\u001b[0;34m\u001b[0m\u001b[0;34m\u001b[0m\u001b[0m\n\u001b[0m\u001b[1;32m     89\u001b[0m \u001b[0;34m\u001b[0m\u001b[0m\n\u001b[1;32m     90\u001b[0m \u001b[0;32mdef\u001b[0m \u001b[0m_raise_linalgerror_nonposdef\u001b[0m\u001b[0;34m(\u001b[0m\u001b[0merr\u001b[0m\u001b[0;34m,\u001b[0m \u001b[0mflag\u001b[0m\u001b[0;34m)\u001b[0m\u001b[0;34m:\u001b[0m\u001b[0;34m\u001b[0m\u001b[0;34m\u001b[0m\u001b[0m\n",
            "\u001b[0;31mLinAlgError\u001b[0m: Singular matrix"
          ]
        }
      ]
    },
    {
      "cell_type": "markdown",
      "source": [
        "##**19-Random values**\n",
        "\n",
        "It can sometimes be useful to return the same random numbers to get predictable, repeatable results. We can do so by setting the ‘Seed’ (An Integer) of the pseudorandom generator. Random processes with the same seed would always produce the same result.\n",
        "\n",
        "np.random enables us to define the random arrays. The function rand() defines a random array if the argument includes a single integer e.g. 5 in the example above and a random matrix if the argument is a combination of integers e.g. (5,4) in the matrix example above. This function returns value within the range of 0 to 1 but if we want integers we should instead use randint(). It takes the first argument as start value, second argument as end value and the third argument as the shape of the array."
      ],
      "metadata": {
        "id": "8KnahyYEP3DI"
      }
    },
    {
      "cell_type": "code",
      "source": [
        "print(np.random.rand(5))"
      ],
      "metadata": {
        "colab": {
          "base_uri": "https://localhost:8080/"
        },
        "id": "jr6WXPy4cwjO",
        "outputId": "731bd33c-c838-4f20-8d94-565c696d6c43"
      },
      "execution_count": null,
      "outputs": [
        {
          "output_type": "stream",
          "name": "stdout",
          "text": [
            "[0.53881673 0.41919451 0.6852195  0.20445225 0.87811744]\n"
          ]
        }
      ]
    },
    {
      "cell_type": "code",
      "source": [
        "print(np.random.rand(5,4))"
      ],
      "metadata": {
        "colab": {
          "base_uri": "https://localhost:8080/"
        },
        "id": "C-V3XKRJdGLH",
        "outputId": "e2be730a-16a7-404c-f01d-d38456e56d48"
      },
      "execution_count": null,
      "outputs": [
        {
          "output_type": "stream",
          "name": "stdout",
          "text": [
            "[[0.02738759 0.67046751 0.4173048  0.55868983]\n",
            " [0.14038694 0.19810149 0.80074457 0.96826158]\n",
            " [0.31342418 0.69232262 0.87638915 0.89460666]\n",
            " [0.08504421 0.03905478 0.16983042 0.8781425 ]\n",
            " [0.09834683 0.42110763 0.95788953 0.53316528]]\n"
          ]
        }
      ]
    },
    {
      "cell_type": "code",
      "source": [
        "#Creates a random normal distribution\n",
        "np.random.randn(4,2)"
      ],
      "metadata": {
        "colab": {
          "base_uri": "https://localhost:8080/"
        },
        "id": "Fsc1T_humck7",
        "outputId": "4dd1ca82-b1dd-499c-8d99-fa2c0a5e810a"
      },
      "execution_count": null,
      "outputs": [
        {
          "output_type": "execute_result",
          "data": {
            "text/plain": [
              "array([[-1.65451545, -0.4829414 ],\n",
              "       [-1.80662901, -0.91544761],\n",
              "       [-0.06973398, -0.84995477],\n",
              "       [ 0.05062323,  0.70507238]])"
            ]
          },
          "metadata": {},
          "execution_count": 59
        }
      ]
    },
    {
      "cell_type": "code",
      "source": [
        "#Selects 10 numbers between 0 & 100\n",
        "np.random.randint(0,100,10) "
      ],
      "metadata": {
        "colab": {
          "base_uri": "https://localhost:8080/"
        },
        "id": "-JT9r9oKmnCK",
        "outputId": "15f69586-f29f-4bde-b079-e4dfb1005e8c"
      },
      "execution_count": null,
      "outputs": [
        {
          "output_type": "execute_result",
          "data": {
            "text/plain": [
              "array([87, 25, 71, 92, 74, 62, 46, 32, 88, 23])"
            ]
          },
          "metadata": {},
          "execution_count": 60
        }
      ]
    },
    {
      "cell_type": "code",
      "metadata": {
        "colab": {
          "base_uri": "https://localhost:8080/"
        },
        "id": "xrlUjCEb1OUL",
        "outputId": "7c738beb-bb60-4084-a271-954257592212"
      },
      "source": [
        "#Gives 50 equally spaced points between 0 & 10\n",
        "arr1=np.linspace(0,10,50)\n",
        "arr1"
      ],
      "execution_count": null,
      "outputs": [
        {
          "output_type": "execute_result",
          "data": {
            "text/plain": [
              "array([ 0.        ,  0.20408163,  0.40816327,  0.6122449 ,  0.81632653,\n",
              "        1.02040816,  1.2244898 ,  1.42857143,  1.63265306,  1.83673469,\n",
              "        2.04081633,  2.24489796,  2.44897959,  2.65306122,  2.85714286,\n",
              "        3.06122449,  3.26530612,  3.46938776,  3.67346939,  3.87755102,\n",
              "        4.08163265,  4.28571429,  4.48979592,  4.69387755,  4.89795918,\n",
              "        5.10204082,  5.30612245,  5.51020408,  5.71428571,  5.91836735,\n",
              "        6.12244898,  6.32653061,  6.53061224,  6.73469388,  6.93877551,\n",
              "        7.14285714,  7.34693878,  7.55102041,  7.75510204,  7.95918367,\n",
              "        8.16326531,  8.36734694,  8.57142857,  8.7755102 ,  8.97959184,\n",
              "        9.18367347,  9.3877551 ,  9.59183673,  9.79591837, 10.        ])"
            ]
          },
          "metadata": {
            "tags": []
          },
          "execution_count": 26
        }
      ]
    },
    {
      "cell_type": "markdown",
      "source": [
        "##**20-Concatenate**"
      ],
      "metadata": {
        "id": "_9XxZU5OTvJO"
      }
    },
    {
      "cell_type": "code",
      "source": [
        "# Concatenation of multi-dimensional arrays\n",
        "arr1 = np.array([[1,2], [3,4]], int)\n",
        "arr2 = np.array([[5,6], [7,8]], int)\n",
        "print(np.concatenate((arr1, arr2)))\n",
        "\n",
        "# Based Row\n",
        "print(np.concatenate((arr1, arr2), axis=0))\n",
        "\n",
        "# Based on Column\n",
        "print(np.concatenate((arr1, arr2), axis=1))"
      ],
      "metadata": {
        "colab": {
          "base_uri": "https://localhost:8080/"
        },
        "id": "rtNvj7B-T593",
        "outputId": "122cf12f-f93c-4b30-cc28-a109288b8f70"
      },
      "execution_count": null,
      "outputs": [
        {
          "output_type": "stream",
          "name": "stdout",
          "text": [
            "[[1 2]\n",
            " [3 4]\n",
            " [5 6]\n",
            " [7 8]]\n",
            "[[1 2]\n",
            " [3 4]\n",
            " [5 6]\n",
            " [7 8]]\n",
            "[[1 2 5 6]\n",
            " [3 4 7 8]]\n"
          ]
        }
      ]
    },
    {
      "cell_type": "markdown",
      "source": [
        "##**21-BroadCasting**\n",
        "\n",
        "The term broadcasting refers to the ability of NumPy to treat arrays of different shapes during arithmetic operations. Arithmetic operations on arrays are usually done on corresponding elements. If two arrays are of exactly the same shape, then these operations are smoothly performed."
      ],
      "metadata": {
        "id": "eTUh8hNheLoR"
      }
    },
    {
      "cell_type": "code",
      "metadata": {
        "colab": {
          "base_uri": "https://localhost:8080/"
        },
        "id": "olK6M4sF2X0D",
        "outputId": "69f5bbeb-0d0b-49e4-990d-5fbfd8bbc633"
      },
      "source": [
        "#Broadcasting\n",
        "arr[3:]=100\n",
        "arr"
      ],
      "execution_count": null,
      "outputs": [
        {
          "output_type": "execute_result",
          "data": {
            "text/plain": [
              "array([  0. ,   0.5,   1. , 100. , 100. , 100. , 100. , 100. , 100. ,\n",
              "       100. , 100. , 100. , 100. , 100. , 100. , 100. , 100. , 100. ,\n",
              "       100. , 100. ])"
            ]
          },
          "metadata": {
            "tags": []
          },
          "execution_count": 27
        }
      ]
    }
  ]
}