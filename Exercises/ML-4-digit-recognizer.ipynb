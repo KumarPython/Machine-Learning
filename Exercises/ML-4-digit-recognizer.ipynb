{
 "cells": [
  {
   "cell_type": "code",
   "execution_count": 1,
   "id": "2f16f0dc",
   "metadata": {
    "_cell_guid": "b1076dfc-b9ad-4769-8c92-a6c4dae69d19",
    "_uuid": "8f2839f25d086af736a60e9eeb907d3b93b6e0e5",
    "execution": {
     "iopub.execute_input": "2022-05-18T05:24:02.127299Z",
     "iopub.status.busy": "2022-05-18T05:24:02.126984Z",
     "iopub.status.idle": "2022-05-18T05:24:02.140752Z",
     "shell.execute_reply": "2022-05-18T05:24:02.140115Z"
    },
    "papermill": {
     "duration": 0.039109,
     "end_time": "2022-05-18T05:24:02.142569",
     "exception": false,
     "start_time": "2022-05-18T05:24:02.103460",
     "status": "completed"
    },
    "tags": []
   },
   "outputs": [
    {
     "name": "stdout",
     "output_type": "stream",
     "text": [
      "/kaggle/input/digit-recognizer/sample_submission.csv\n",
      "/kaggle/input/digit-recognizer/train.csv\n",
      "/kaggle/input/digit-recognizer/test.csv\n"
     ]
    }
   ],
   "source": [
    "# This Python 3 environment comes with many helpful analytics libraries installed\n",
    "# It is defined by the kaggle/python Docker image: https://github.com/kaggle/docker-python\n",
    "# For example, here's several helpful packages to load\n",
    "\n",
    "import numpy as np # linear algebra\n",
    "import pandas as pd # data processing, CSV file I/O (e.g. pd.read_csv)\n",
    "\n",
    "# Input data files are available in the read-only \"../input/\" directory\n",
    "# For example, running this (by clicking run or pressing Shift+Enter) will list all files under the input directory\n",
    "\n",
    "import os\n",
    "for dirname, _, filenames in os.walk('/kaggle/input'):\n",
    "    for filename in filenames:\n",
    "        print(os.path.join(dirname, filename))\n",
    "\n",
    "# You can write up to 20GB to the current directory (/kaggle/working/) that gets preserved as output when you create a version using \"Save & Run All\" \n",
    "# You can also write temporary files to /kaggle/temp/, but they won't be saved outside of the current session"
   ]
  },
  {
   "cell_type": "markdown",
   "id": "a5a6cc41",
   "metadata": {
    "papermill": {
     "duration": 0.021177,
     "end_time": "2022-05-18T05:24:02.185935",
     "exception": false,
     "start_time": "2022-05-18T05:24:02.164758",
     "status": "completed"
    },
    "tags": []
   },
   "source": [
    "In this competition we are given gray-scale images of hand-drawn digits, from zero through nine.\n",
    "\n",
    "Each image is 28 pixels in height and 28 pixels in width, for a total of 784 pixels in total. Each pixel has a single pixel-value associated with it, indicating the lightness or darkness of that pixel, with higher numbers meaning darker. This pixel-value is an integer between 0 and 255, inclusive.\n",
    "\n",
    "* **We will  be using these pixel-values of EACH pixel as our Features in ML. So,I need to deal with 784 Features,** \n",
    "* **I also will not do much Feature Engineering as it may lead to TAMPERED Data** "
   ]
  },
  {
   "cell_type": "markdown",
   "id": "fe8513b6",
   "metadata": {
    "papermill": {
     "duration": 0.021013,
     "end_time": "2022-05-18T05:24:02.228220",
     "exception": false,
     "start_time": "2022-05-18T05:24:02.207207",
     "status": "completed"
    },
    "tags": []
   },
   "source": [
    "# Import Libraries (more to be imported when needed)"
   ]
  },
  {
   "cell_type": "code",
   "execution_count": 2,
   "id": "89c4cfe3",
   "metadata": {
    "execution": {
     "iopub.execute_input": "2022-05-18T05:24:02.271614Z",
     "iopub.status.busy": "2022-05-18T05:24:02.271420Z",
     "iopub.status.idle": "2022-05-18T05:24:02.276537Z",
     "shell.execute_reply": "2022-05-18T05:24:02.275905Z"
    },
    "papermill": {
     "duration": 0.028768,
     "end_time": "2022-05-18T05:24:02.278298",
     "exception": false,
     "start_time": "2022-05-18T05:24:02.249530",
     "status": "completed"
    },
    "tags": []
   },
   "outputs": [],
   "source": [
    "import pandas as pd\n",
    "import matplotlib.pyplot as plt\n",
    "%matplotlib inline"
   ]
  },
  {
   "cell_type": "markdown",
   "id": "8658a3d0",
   "metadata": {
    "papermill": {
     "duration": 0.022749,
     "end_time": "2022-05-18T05:24:02.322417",
     "exception": false,
     "start_time": "2022-05-18T05:24:02.299668",
     "status": "completed"
    },
    "tags": []
   },
   "source": [
    "# Load Data"
   ]
  },
  {
   "cell_type": "code",
   "execution_count": 3,
   "id": "1bad6e3a",
   "metadata": {
    "execution": {
     "iopub.execute_input": "2022-05-18T05:24:02.366032Z",
     "iopub.status.busy": "2022-05-18T05:24:02.365735Z",
     "iopub.status.idle": "2022-05-18T05:24:07.448427Z",
     "shell.execute_reply": "2022-05-18T05:24:07.447750Z"
    },
    "papermill": {
     "duration": 5.106402,
     "end_time": "2022-05-18T05:24:07.450151",
     "exception": false,
     "start_time": "2022-05-18T05:24:02.343749",
     "status": "completed"
    },
    "tags": []
   },
   "outputs": [
    {
     "data": {
      "text/html": [
       "<div>\n",
       "<style scoped>\n",
       "    .dataframe tbody tr th:only-of-type {\n",
       "        vertical-align: middle;\n",
       "    }\n",
       "\n",
       "    .dataframe tbody tr th {\n",
       "        vertical-align: top;\n",
       "    }\n",
       "\n",
       "    .dataframe thead th {\n",
       "        text-align: right;\n",
       "    }\n",
       "</style>\n",
       "<table border=\"1\" class=\"dataframe\">\n",
       "  <thead>\n",
       "    <tr style=\"text-align: right;\">\n",
       "      <th></th>\n",
       "      <th>label</th>\n",
       "      <th>pixel0</th>\n",
       "      <th>pixel1</th>\n",
       "      <th>pixel2</th>\n",
       "      <th>pixel3</th>\n",
       "      <th>pixel4</th>\n",
       "      <th>pixel5</th>\n",
       "      <th>pixel6</th>\n",
       "      <th>pixel7</th>\n",
       "      <th>pixel8</th>\n",
       "      <th>...</th>\n",
       "      <th>pixel774</th>\n",
       "      <th>pixel775</th>\n",
       "      <th>pixel776</th>\n",
       "      <th>pixel777</th>\n",
       "      <th>pixel778</th>\n",
       "      <th>pixel779</th>\n",
       "      <th>pixel780</th>\n",
       "      <th>pixel781</th>\n",
       "      <th>pixel782</th>\n",
       "      <th>pixel783</th>\n",
       "    </tr>\n",
       "  </thead>\n",
       "  <tbody>\n",
       "    <tr>\n",
       "      <th>0</th>\n",
       "      <td>1</td>\n",
       "      <td>0</td>\n",
       "      <td>0</td>\n",
       "      <td>0</td>\n",
       "      <td>0</td>\n",
       "      <td>0</td>\n",
       "      <td>0</td>\n",
       "      <td>0</td>\n",
       "      <td>0</td>\n",
       "      <td>0</td>\n",
       "      <td>...</td>\n",
       "      <td>0</td>\n",
       "      <td>0</td>\n",
       "      <td>0</td>\n",
       "      <td>0</td>\n",
       "      <td>0</td>\n",
       "      <td>0</td>\n",
       "      <td>0</td>\n",
       "      <td>0</td>\n",
       "      <td>0</td>\n",
       "      <td>0</td>\n",
       "    </tr>\n",
       "    <tr>\n",
       "      <th>1</th>\n",
       "      <td>0</td>\n",
       "      <td>0</td>\n",
       "      <td>0</td>\n",
       "      <td>0</td>\n",
       "      <td>0</td>\n",
       "      <td>0</td>\n",
       "      <td>0</td>\n",
       "      <td>0</td>\n",
       "      <td>0</td>\n",
       "      <td>0</td>\n",
       "      <td>...</td>\n",
       "      <td>0</td>\n",
       "      <td>0</td>\n",
       "      <td>0</td>\n",
       "      <td>0</td>\n",
       "      <td>0</td>\n",
       "      <td>0</td>\n",
       "      <td>0</td>\n",
       "      <td>0</td>\n",
       "      <td>0</td>\n",
       "      <td>0</td>\n",
       "    </tr>\n",
       "    <tr>\n",
       "      <th>2</th>\n",
       "      <td>1</td>\n",
       "      <td>0</td>\n",
       "      <td>0</td>\n",
       "      <td>0</td>\n",
       "      <td>0</td>\n",
       "      <td>0</td>\n",
       "      <td>0</td>\n",
       "      <td>0</td>\n",
       "      <td>0</td>\n",
       "      <td>0</td>\n",
       "      <td>...</td>\n",
       "      <td>0</td>\n",
       "      <td>0</td>\n",
       "      <td>0</td>\n",
       "      <td>0</td>\n",
       "      <td>0</td>\n",
       "      <td>0</td>\n",
       "      <td>0</td>\n",
       "      <td>0</td>\n",
       "      <td>0</td>\n",
       "      <td>0</td>\n",
       "    </tr>\n",
       "    <tr>\n",
       "      <th>3</th>\n",
       "      <td>4</td>\n",
       "      <td>0</td>\n",
       "      <td>0</td>\n",
       "      <td>0</td>\n",
       "      <td>0</td>\n",
       "      <td>0</td>\n",
       "      <td>0</td>\n",
       "      <td>0</td>\n",
       "      <td>0</td>\n",
       "      <td>0</td>\n",
       "      <td>...</td>\n",
       "      <td>0</td>\n",
       "      <td>0</td>\n",
       "      <td>0</td>\n",
       "      <td>0</td>\n",
       "      <td>0</td>\n",
       "      <td>0</td>\n",
       "      <td>0</td>\n",
       "      <td>0</td>\n",
       "      <td>0</td>\n",
       "      <td>0</td>\n",
       "    </tr>\n",
       "    <tr>\n",
       "      <th>4</th>\n",
       "      <td>0</td>\n",
       "      <td>0</td>\n",
       "      <td>0</td>\n",
       "      <td>0</td>\n",
       "      <td>0</td>\n",
       "      <td>0</td>\n",
       "      <td>0</td>\n",
       "      <td>0</td>\n",
       "      <td>0</td>\n",
       "      <td>0</td>\n",
       "      <td>...</td>\n",
       "      <td>0</td>\n",
       "      <td>0</td>\n",
       "      <td>0</td>\n",
       "      <td>0</td>\n",
       "      <td>0</td>\n",
       "      <td>0</td>\n",
       "      <td>0</td>\n",
       "      <td>0</td>\n",
       "      <td>0</td>\n",
       "      <td>0</td>\n",
       "    </tr>\n",
       "    <tr>\n",
       "      <th>...</th>\n",
       "      <td>...</td>\n",
       "      <td>...</td>\n",
       "      <td>...</td>\n",
       "      <td>...</td>\n",
       "      <td>...</td>\n",
       "      <td>...</td>\n",
       "      <td>...</td>\n",
       "      <td>...</td>\n",
       "      <td>...</td>\n",
       "      <td>...</td>\n",
       "      <td>...</td>\n",
       "      <td>...</td>\n",
       "      <td>...</td>\n",
       "      <td>...</td>\n",
       "      <td>...</td>\n",
       "      <td>...</td>\n",
       "      <td>...</td>\n",
       "      <td>...</td>\n",
       "      <td>...</td>\n",
       "      <td>...</td>\n",
       "      <td>...</td>\n",
       "    </tr>\n",
       "    <tr>\n",
       "      <th>41995</th>\n",
       "      <td>0</td>\n",
       "      <td>0</td>\n",
       "      <td>0</td>\n",
       "      <td>0</td>\n",
       "      <td>0</td>\n",
       "      <td>0</td>\n",
       "      <td>0</td>\n",
       "      <td>0</td>\n",
       "      <td>0</td>\n",
       "      <td>0</td>\n",
       "      <td>...</td>\n",
       "      <td>0</td>\n",
       "      <td>0</td>\n",
       "      <td>0</td>\n",
       "      <td>0</td>\n",
       "      <td>0</td>\n",
       "      <td>0</td>\n",
       "      <td>0</td>\n",
       "      <td>0</td>\n",
       "      <td>0</td>\n",
       "      <td>0</td>\n",
       "    </tr>\n",
       "    <tr>\n",
       "      <th>41996</th>\n",
       "      <td>1</td>\n",
       "      <td>0</td>\n",
       "      <td>0</td>\n",
       "      <td>0</td>\n",
       "      <td>0</td>\n",
       "      <td>0</td>\n",
       "      <td>0</td>\n",
       "      <td>0</td>\n",
       "      <td>0</td>\n",
       "      <td>0</td>\n",
       "      <td>...</td>\n",
       "      <td>0</td>\n",
       "      <td>0</td>\n",
       "      <td>0</td>\n",
       "      <td>0</td>\n",
       "      <td>0</td>\n",
       "      <td>0</td>\n",
       "      <td>0</td>\n",
       "      <td>0</td>\n",
       "      <td>0</td>\n",
       "      <td>0</td>\n",
       "    </tr>\n",
       "    <tr>\n",
       "      <th>41997</th>\n",
       "      <td>7</td>\n",
       "      <td>0</td>\n",
       "      <td>0</td>\n",
       "      <td>0</td>\n",
       "      <td>0</td>\n",
       "      <td>0</td>\n",
       "      <td>0</td>\n",
       "      <td>0</td>\n",
       "      <td>0</td>\n",
       "      <td>0</td>\n",
       "      <td>...</td>\n",
       "      <td>0</td>\n",
       "      <td>0</td>\n",
       "      <td>0</td>\n",
       "      <td>0</td>\n",
       "      <td>0</td>\n",
       "      <td>0</td>\n",
       "      <td>0</td>\n",
       "      <td>0</td>\n",
       "      <td>0</td>\n",
       "      <td>0</td>\n",
       "    </tr>\n",
       "    <tr>\n",
       "      <th>41998</th>\n",
       "      <td>6</td>\n",
       "      <td>0</td>\n",
       "      <td>0</td>\n",
       "      <td>0</td>\n",
       "      <td>0</td>\n",
       "      <td>0</td>\n",
       "      <td>0</td>\n",
       "      <td>0</td>\n",
       "      <td>0</td>\n",
       "      <td>0</td>\n",
       "      <td>...</td>\n",
       "      <td>0</td>\n",
       "      <td>0</td>\n",
       "      <td>0</td>\n",
       "      <td>0</td>\n",
       "      <td>0</td>\n",
       "      <td>0</td>\n",
       "      <td>0</td>\n",
       "      <td>0</td>\n",
       "      <td>0</td>\n",
       "      <td>0</td>\n",
       "    </tr>\n",
       "    <tr>\n",
       "      <th>41999</th>\n",
       "      <td>9</td>\n",
       "      <td>0</td>\n",
       "      <td>0</td>\n",
       "      <td>0</td>\n",
       "      <td>0</td>\n",
       "      <td>0</td>\n",
       "      <td>0</td>\n",
       "      <td>0</td>\n",
       "      <td>0</td>\n",
       "      <td>0</td>\n",
       "      <td>...</td>\n",
       "      <td>0</td>\n",
       "      <td>0</td>\n",
       "      <td>0</td>\n",
       "      <td>0</td>\n",
       "      <td>0</td>\n",
       "      <td>0</td>\n",
       "      <td>0</td>\n",
       "      <td>0</td>\n",
       "      <td>0</td>\n",
       "      <td>0</td>\n",
       "    </tr>\n",
       "  </tbody>\n",
       "</table>\n",
       "<p>42000 rows × 785 columns</p>\n",
       "</div>"
      ],
      "text/plain": [
       "       label  pixel0  pixel1  pixel2  pixel3  pixel4  pixel5  pixel6  pixel7  \\\n",
       "0          1       0       0       0       0       0       0       0       0   \n",
       "1          0       0       0       0       0       0       0       0       0   \n",
       "2          1       0       0       0       0       0       0       0       0   \n",
       "3          4       0       0       0       0       0       0       0       0   \n",
       "4          0       0       0       0       0       0       0       0       0   \n",
       "...      ...     ...     ...     ...     ...     ...     ...     ...     ...   \n",
       "41995      0       0       0       0       0       0       0       0       0   \n",
       "41996      1       0       0       0       0       0       0       0       0   \n",
       "41997      7       0       0       0       0       0       0       0       0   \n",
       "41998      6       0       0       0       0       0       0       0       0   \n",
       "41999      9       0       0       0       0       0       0       0       0   \n",
       "\n",
       "       pixel8  ...  pixel774  pixel775  pixel776  pixel777  pixel778  \\\n",
       "0           0  ...         0         0         0         0         0   \n",
       "1           0  ...         0         0         0         0         0   \n",
       "2           0  ...         0         0         0         0         0   \n",
       "3           0  ...         0         0         0         0         0   \n",
       "4           0  ...         0         0         0         0         0   \n",
       "...       ...  ...       ...       ...       ...       ...       ...   \n",
       "41995       0  ...         0         0         0         0         0   \n",
       "41996       0  ...         0         0         0         0         0   \n",
       "41997       0  ...         0         0         0         0         0   \n",
       "41998       0  ...         0         0         0         0         0   \n",
       "41999       0  ...         0         0         0         0         0   \n",
       "\n",
       "       pixel779  pixel780  pixel781  pixel782  pixel783  \n",
       "0             0         0         0         0         0  \n",
       "1             0         0         0         0         0  \n",
       "2             0         0         0         0         0  \n",
       "3             0         0         0         0         0  \n",
       "4             0         0         0         0         0  \n",
       "...         ...       ...       ...       ...       ...  \n",
       "41995         0         0         0         0         0  \n",
       "41996         0         0         0         0         0  \n",
       "41997         0         0         0         0         0  \n",
       "41998         0         0         0         0         0  \n",
       "41999         0         0         0         0         0  \n",
       "\n",
       "[42000 rows x 785 columns]"
      ]
     },
     "execution_count": 3,
     "metadata": {},
     "output_type": "execute_result"
    }
   ],
   "source": [
    "train=pd.read_csv('/kaggle/input/digit-recognizer/train.csv')\n",
    "test=pd.read_csv('/kaggle/input/digit-recognizer/test.csv')\n",
    "train\n",
    "# test"
   ]
  },
  {
   "cell_type": "markdown",
   "id": "f0838946",
   "metadata": {
    "papermill": {
     "duration": 0.022238,
     "end_time": "2022-05-18T05:24:07.494992",
     "exception": false,
     "start_time": "2022-05-18T05:24:07.472754",
     "status": "completed"
    },
    "tags": []
   },
   "source": [
    "# Information"
   ]
  },
  {
   "cell_type": "code",
   "execution_count": 4,
   "id": "bca1833f",
   "metadata": {
    "execution": {
     "iopub.execute_input": "2022-05-18T05:24:07.541852Z",
     "iopub.status.busy": "2022-05-18T05:24:07.541652Z",
     "iopub.status.idle": "2022-05-18T05:24:07.589723Z",
     "shell.execute_reply": "2022-05-18T05:24:07.588947Z"
    },
    "papermill": {
     "duration": 0.074276,
     "end_time": "2022-05-18T05:24:07.592048",
     "exception": false,
     "start_time": "2022-05-18T05:24:07.517772",
     "status": "completed"
    },
    "tags": []
   },
   "outputs": [
    {
     "name": "stdout",
     "output_type": "stream",
     "text": [
      "<class 'pandas.core.frame.DataFrame'>\n",
      "RangeIndex: 42000 entries, 0 to 41999\n",
      "Columns: 785 entries, label to pixel783\n",
      "dtypes: int64(785)\n",
      "memory usage: 251.5 MB\n"
     ]
    }
   ],
   "source": [
    "train.info()"
   ]
  },
  {
   "cell_type": "markdown",
   "id": "2b99cc1a",
   "metadata": {
    "papermill": {
     "duration": 0.022406,
     "end_time": "2022-05-18T05:24:07.638240",
     "exception": false,
     "start_time": "2022-05-18T05:24:07.615834",
     "status": "completed"
    },
    "tags": []
   },
   "source": [
    "# Desciption"
   ]
  },
  {
   "cell_type": "code",
   "execution_count": 5,
   "id": "f4e2cffc",
   "metadata": {
    "execution": {
     "iopub.execute_input": "2022-05-18T05:24:07.685156Z",
     "iopub.status.busy": "2022-05-18T05:24:07.684950Z",
     "iopub.status.idle": "2022-05-18T05:24:09.723375Z",
     "shell.execute_reply": "2022-05-18T05:24:09.722709Z"
    },
    "papermill": {
     "duration": 2.0635,
     "end_time": "2022-05-18T05:24:09.725113",
     "exception": false,
     "start_time": "2022-05-18T05:24:07.661613",
     "status": "completed"
    },
    "tags": []
   },
   "outputs": [
    {
     "data": {
      "text/html": [
       "<div>\n",
       "<style scoped>\n",
       "    .dataframe tbody tr th:only-of-type {\n",
       "        vertical-align: middle;\n",
       "    }\n",
       "\n",
       "    .dataframe tbody tr th {\n",
       "        vertical-align: top;\n",
       "    }\n",
       "\n",
       "    .dataframe thead th {\n",
       "        text-align: right;\n",
       "    }\n",
       "</style>\n",
       "<table border=\"1\" class=\"dataframe\">\n",
       "  <thead>\n",
       "    <tr style=\"text-align: right;\">\n",
       "      <th></th>\n",
       "      <th>label</th>\n",
       "      <th>pixel0</th>\n",
       "      <th>pixel1</th>\n",
       "      <th>pixel2</th>\n",
       "      <th>pixel3</th>\n",
       "      <th>pixel4</th>\n",
       "      <th>pixel5</th>\n",
       "      <th>pixel6</th>\n",
       "      <th>pixel7</th>\n",
       "      <th>pixel8</th>\n",
       "      <th>...</th>\n",
       "      <th>pixel774</th>\n",
       "      <th>pixel775</th>\n",
       "      <th>pixel776</th>\n",
       "      <th>pixel777</th>\n",
       "      <th>pixel778</th>\n",
       "      <th>pixel779</th>\n",
       "      <th>pixel780</th>\n",
       "      <th>pixel781</th>\n",
       "      <th>pixel782</th>\n",
       "      <th>pixel783</th>\n",
       "    </tr>\n",
       "  </thead>\n",
       "  <tbody>\n",
       "    <tr>\n",
       "      <th>count</th>\n",
       "      <td>42000.000000</td>\n",
       "      <td>42000.0</td>\n",
       "      <td>42000.0</td>\n",
       "      <td>42000.0</td>\n",
       "      <td>42000.0</td>\n",
       "      <td>42000.0</td>\n",
       "      <td>42000.0</td>\n",
       "      <td>42000.0</td>\n",
       "      <td>42000.0</td>\n",
       "      <td>42000.0</td>\n",
       "      <td>...</td>\n",
       "      <td>42000.000000</td>\n",
       "      <td>42000.000000</td>\n",
       "      <td>42000.000000</td>\n",
       "      <td>42000.00000</td>\n",
       "      <td>42000.000000</td>\n",
       "      <td>42000.000000</td>\n",
       "      <td>42000.0</td>\n",
       "      <td>42000.0</td>\n",
       "      <td>42000.0</td>\n",
       "      <td>42000.0</td>\n",
       "    </tr>\n",
       "    <tr>\n",
       "      <th>mean</th>\n",
       "      <td>4.456643</td>\n",
       "      <td>0.0</td>\n",
       "      <td>0.0</td>\n",
       "      <td>0.0</td>\n",
       "      <td>0.0</td>\n",
       "      <td>0.0</td>\n",
       "      <td>0.0</td>\n",
       "      <td>0.0</td>\n",
       "      <td>0.0</td>\n",
       "      <td>0.0</td>\n",
       "      <td>...</td>\n",
       "      <td>0.219286</td>\n",
       "      <td>0.117095</td>\n",
       "      <td>0.059024</td>\n",
       "      <td>0.02019</td>\n",
       "      <td>0.017238</td>\n",
       "      <td>0.002857</td>\n",
       "      <td>0.0</td>\n",
       "      <td>0.0</td>\n",
       "      <td>0.0</td>\n",
       "      <td>0.0</td>\n",
       "    </tr>\n",
       "    <tr>\n",
       "      <th>std</th>\n",
       "      <td>2.887730</td>\n",
       "      <td>0.0</td>\n",
       "      <td>0.0</td>\n",
       "      <td>0.0</td>\n",
       "      <td>0.0</td>\n",
       "      <td>0.0</td>\n",
       "      <td>0.0</td>\n",
       "      <td>0.0</td>\n",
       "      <td>0.0</td>\n",
       "      <td>0.0</td>\n",
       "      <td>...</td>\n",
       "      <td>6.312890</td>\n",
       "      <td>4.633819</td>\n",
       "      <td>3.274488</td>\n",
       "      <td>1.75987</td>\n",
       "      <td>1.894498</td>\n",
       "      <td>0.414264</td>\n",
       "      <td>0.0</td>\n",
       "      <td>0.0</td>\n",
       "      <td>0.0</td>\n",
       "      <td>0.0</td>\n",
       "    </tr>\n",
       "    <tr>\n",
       "      <th>min</th>\n",
       "      <td>0.000000</td>\n",
       "      <td>0.0</td>\n",
       "      <td>0.0</td>\n",
       "      <td>0.0</td>\n",
       "      <td>0.0</td>\n",
       "      <td>0.0</td>\n",
       "      <td>0.0</td>\n",
       "      <td>0.0</td>\n",
       "      <td>0.0</td>\n",
       "      <td>0.0</td>\n",
       "      <td>...</td>\n",
       "      <td>0.000000</td>\n",
       "      <td>0.000000</td>\n",
       "      <td>0.000000</td>\n",
       "      <td>0.00000</td>\n",
       "      <td>0.000000</td>\n",
       "      <td>0.000000</td>\n",
       "      <td>0.0</td>\n",
       "      <td>0.0</td>\n",
       "      <td>0.0</td>\n",
       "      <td>0.0</td>\n",
       "    </tr>\n",
       "    <tr>\n",
       "      <th>25%</th>\n",
       "      <td>2.000000</td>\n",
       "      <td>0.0</td>\n",
       "      <td>0.0</td>\n",
       "      <td>0.0</td>\n",
       "      <td>0.0</td>\n",
       "      <td>0.0</td>\n",
       "      <td>0.0</td>\n",
       "      <td>0.0</td>\n",
       "      <td>0.0</td>\n",
       "      <td>0.0</td>\n",
       "      <td>...</td>\n",
       "      <td>0.000000</td>\n",
       "      <td>0.000000</td>\n",
       "      <td>0.000000</td>\n",
       "      <td>0.00000</td>\n",
       "      <td>0.000000</td>\n",
       "      <td>0.000000</td>\n",
       "      <td>0.0</td>\n",
       "      <td>0.0</td>\n",
       "      <td>0.0</td>\n",
       "      <td>0.0</td>\n",
       "    </tr>\n",
       "    <tr>\n",
       "      <th>50%</th>\n",
       "      <td>4.000000</td>\n",
       "      <td>0.0</td>\n",
       "      <td>0.0</td>\n",
       "      <td>0.0</td>\n",
       "      <td>0.0</td>\n",
       "      <td>0.0</td>\n",
       "      <td>0.0</td>\n",
       "      <td>0.0</td>\n",
       "      <td>0.0</td>\n",
       "      <td>0.0</td>\n",
       "      <td>...</td>\n",
       "      <td>0.000000</td>\n",
       "      <td>0.000000</td>\n",
       "      <td>0.000000</td>\n",
       "      <td>0.00000</td>\n",
       "      <td>0.000000</td>\n",
       "      <td>0.000000</td>\n",
       "      <td>0.0</td>\n",
       "      <td>0.0</td>\n",
       "      <td>0.0</td>\n",
       "      <td>0.0</td>\n",
       "    </tr>\n",
       "    <tr>\n",
       "      <th>75%</th>\n",
       "      <td>7.000000</td>\n",
       "      <td>0.0</td>\n",
       "      <td>0.0</td>\n",
       "      <td>0.0</td>\n",
       "      <td>0.0</td>\n",
       "      <td>0.0</td>\n",
       "      <td>0.0</td>\n",
       "      <td>0.0</td>\n",
       "      <td>0.0</td>\n",
       "      <td>0.0</td>\n",
       "      <td>...</td>\n",
       "      <td>0.000000</td>\n",
       "      <td>0.000000</td>\n",
       "      <td>0.000000</td>\n",
       "      <td>0.00000</td>\n",
       "      <td>0.000000</td>\n",
       "      <td>0.000000</td>\n",
       "      <td>0.0</td>\n",
       "      <td>0.0</td>\n",
       "      <td>0.0</td>\n",
       "      <td>0.0</td>\n",
       "    </tr>\n",
       "    <tr>\n",
       "      <th>max</th>\n",
       "      <td>9.000000</td>\n",
       "      <td>0.0</td>\n",
       "      <td>0.0</td>\n",
       "      <td>0.0</td>\n",
       "      <td>0.0</td>\n",
       "      <td>0.0</td>\n",
       "      <td>0.0</td>\n",
       "      <td>0.0</td>\n",
       "      <td>0.0</td>\n",
       "      <td>0.0</td>\n",
       "      <td>...</td>\n",
       "      <td>254.000000</td>\n",
       "      <td>254.000000</td>\n",
       "      <td>253.000000</td>\n",
       "      <td>253.00000</td>\n",
       "      <td>254.000000</td>\n",
       "      <td>62.000000</td>\n",
       "      <td>0.0</td>\n",
       "      <td>0.0</td>\n",
       "      <td>0.0</td>\n",
       "      <td>0.0</td>\n",
       "    </tr>\n",
       "  </tbody>\n",
       "</table>\n",
       "<p>8 rows × 785 columns</p>\n",
       "</div>"
      ],
      "text/plain": [
       "              label   pixel0   pixel1   pixel2   pixel3   pixel4   pixel5  \\\n",
       "count  42000.000000  42000.0  42000.0  42000.0  42000.0  42000.0  42000.0   \n",
       "mean       4.456643      0.0      0.0      0.0      0.0      0.0      0.0   \n",
       "std        2.887730      0.0      0.0      0.0      0.0      0.0      0.0   \n",
       "min        0.000000      0.0      0.0      0.0      0.0      0.0      0.0   \n",
       "25%        2.000000      0.0      0.0      0.0      0.0      0.0      0.0   \n",
       "50%        4.000000      0.0      0.0      0.0      0.0      0.0      0.0   \n",
       "75%        7.000000      0.0      0.0      0.0      0.0      0.0      0.0   \n",
       "max        9.000000      0.0      0.0      0.0      0.0      0.0      0.0   \n",
       "\n",
       "        pixel6   pixel7   pixel8  ...      pixel774      pixel775  \\\n",
       "count  42000.0  42000.0  42000.0  ...  42000.000000  42000.000000   \n",
       "mean       0.0      0.0      0.0  ...      0.219286      0.117095   \n",
       "std        0.0      0.0      0.0  ...      6.312890      4.633819   \n",
       "min        0.0      0.0      0.0  ...      0.000000      0.000000   \n",
       "25%        0.0      0.0      0.0  ...      0.000000      0.000000   \n",
       "50%        0.0      0.0      0.0  ...      0.000000      0.000000   \n",
       "75%        0.0      0.0      0.0  ...      0.000000      0.000000   \n",
       "max        0.0      0.0      0.0  ...    254.000000    254.000000   \n",
       "\n",
       "           pixel776     pixel777      pixel778      pixel779  pixel780  \\\n",
       "count  42000.000000  42000.00000  42000.000000  42000.000000   42000.0   \n",
       "mean       0.059024      0.02019      0.017238      0.002857       0.0   \n",
       "std        3.274488      1.75987      1.894498      0.414264       0.0   \n",
       "min        0.000000      0.00000      0.000000      0.000000       0.0   \n",
       "25%        0.000000      0.00000      0.000000      0.000000       0.0   \n",
       "50%        0.000000      0.00000      0.000000      0.000000       0.0   \n",
       "75%        0.000000      0.00000      0.000000      0.000000       0.0   \n",
       "max      253.000000    253.00000    254.000000     62.000000       0.0   \n",
       "\n",
       "       pixel781  pixel782  pixel783  \n",
       "count   42000.0   42000.0   42000.0  \n",
       "mean        0.0       0.0       0.0  \n",
       "std         0.0       0.0       0.0  \n",
       "min         0.0       0.0       0.0  \n",
       "25%         0.0       0.0       0.0  \n",
       "50%         0.0       0.0       0.0  \n",
       "75%         0.0       0.0       0.0  \n",
       "max         0.0       0.0       0.0  \n",
       "\n",
       "[8 rows x 785 columns]"
      ]
     },
     "execution_count": 5,
     "metadata": {},
     "output_type": "execute_result"
    }
   ],
   "source": [
    "train.describe()"
   ]
  },
  {
   "cell_type": "markdown",
   "id": "3fcdd84c",
   "metadata": {
    "papermill": {
     "duration": 0.022839,
     "end_time": "2022-05-18T05:24:09.771592",
     "exception": false,
     "start_time": "2022-05-18T05:24:09.748753",
     "status": "completed"
    },
    "tags": []
   },
   "source": [
    "# Has NULL Values"
   ]
  },
  {
   "cell_type": "code",
   "execution_count": 6,
   "id": "48f91331",
   "metadata": {
    "execution": {
     "iopub.execute_input": "2022-05-18T05:24:09.818904Z",
     "iopub.status.busy": "2022-05-18T05:24:09.818294Z",
     "iopub.status.idle": "2022-05-18T05:24:09.833828Z",
     "shell.execute_reply": "2022-05-18T05:24:09.832951Z"
    },
    "papermill": {
     "duration": 0.040997,
     "end_time": "2022-05-18T05:24:09.835570",
     "exception": false,
     "start_time": "2022-05-18T05:24:09.794573",
     "status": "completed"
    },
    "tags": []
   },
   "outputs": [
    {
     "data": {
      "text/plain": [
       "Index([], dtype='object')"
      ]
     },
     "execution_count": 6,
     "metadata": {},
     "output_type": "execute_result"
    }
   ],
   "source": [
    "null_train=train.columns[train.isnull().any()]\n",
    "null_train"
   ]
  },
  {
   "cell_type": "markdown",
   "id": "42c2527d",
   "metadata": {
    "papermill": {
     "duration": 0.023179,
     "end_time": "2022-05-18T05:24:09.882743",
     "exception": false,
     "start_time": "2022-05-18T05:24:09.859564",
     "status": "completed"
    },
    "tags": []
   },
   "source": [
    "No NULL Values, as expected..."
   ]
  },
  {
   "cell_type": "markdown",
   "id": "5524a2bf",
   "metadata": {
    "papermill": {
     "duration": 0.023341,
     "end_time": "2022-05-18T05:24:09.929753",
     "exception": false,
     "start_time": "2022-05-18T05:24:09.906412",
     "status": "completed"
    },
    "tags": []
   },
   "source": [
    "# Seggregate X & y"
   ]
  },
  {
   "cell_type": "code",
   "execution_count": 7,
   "id": "132d7178",
   "metadata": {
    "execution": {
     "iopub.execute_input": "2022-05-18T05:24:09.977415Z",
     "iopub.status.busy": "2022-05-18T05:24:09.977208Z",
     "iopub.status.idle": "2022-05-18T05:24:10.060474Z",
     "shell.execute_reply": "2022-05-18T05:24:10.059781Z"
    },
    "papermill": {
     "duration": 0.109134,
     "end_time": "2022-05-18T05:24:10.062229",
     "exception": false,
     "start_time": "2022-05-18T05:24:09.953095",
     "status": "completed"
    },
    "tags": []
   },
   "outputs": [
    {
     "data": {
      "text/plain": [
       "(42000,)"
      ]
     },
     "execution_count": 7,
     "metadata": {},
     "output_type": "execute_result"
    }
   ],
   "source": [
    "y=train['label']\n",
    "X=train.drop(['label'],axis=1)\n",
    "# X.shape\n",
    "y.shape"
   ]
  },
  {
   "cell_type": "markdown",
   "id": "15266943",
   "metadata": {
    "papermill": {
     "duration": 0.023466,
     "end_time": "2022-05-18T05:24:10.109761",
     "exception": false,
     "start_time": "2022-05-18T05:24:10.086295",
     "status": "completed"
    },
    "tags": []
   },
   "source": [
    "# See the Data"
   ]
  },
  {
   "cell_type": "code",
   "execution_count": 8,
   "id": "d71dfb75",
   "metadata": {
    "execution": {
     "iopub.execute_input": "2022-05-18T05:24:10.158592Z",
     "iopub.status.busy": "2022-05-18T05:24:10.158381Z",
     "iopub.status.idle": "2022-05-18T05:24:10.254543Z",
     "shell.execute_reply": "2022-05-18T05:24:10.253859Z"
    },
    "papermill": {
     "duration": 0.123621,
     "end_time": "2022-05-18T05:24:10.256893",
     "exception": false,
     "start_time": "2022-05-18T05:24:10.133272",
     "status": "completed"
    },
    "tags": []
   },
   "outputs": [
    {
     "data": {
      "image/png": "[encoded data removed]",
      "text/plain": [
       "<Figure size 432x288 with 1 Axes>"
      ]
     },
     "metadata": {
      "needs_background": "light"
     },
     "output_type": "display_data"
    }
   ],
   "source": [
    "import matplotlib\n",
    "plt.imshow(X.iloc[10000].values.reshape(28,28),cmap=matplotlib.cm.binary,interpolation='nearest',aspect='auto')\n",
    "plt.axis('off')\n",
    "plt.show()"
   ]
  },
  {
   "cell_type": "markdown",
   "id": "5eeb5b2d",
   "metadata": {
    "papermill": {
     "duration": 0.031801,
     "end_time": "2022-05-18T05:24:10.334983",
     "exception": false,
     "start_time": "2022-05-18T05:24:10.303182",
     "status": "completed"
    },
    "tags": []
   },
   "source": [
    "Looks like 2 !"
   ]
  },
  {
   "cell_type": "markdown",
   "id": "2da03f24",
   "metadata": {
    "papermill": {
     "duration": 0.024133,
     "end_time": "2022-05-18T05:24:10.383309",
     "exception": false,
     "start_time": "2022-05-18T05:24:10.359176",
     "status": "completed"
    },
    "tags": []
   },
   "source": [
    "# Now,the Corresponding Label"
   ]
  },
  {
   "cell_type": "code",
   "execution_count": 9,
   "id": "ee20b29f",
   "metadata": {
    "execution": {
     "iopub.execute_input": "2022-05-18T05:24:10.432503Z",
     "iopub.status.busy": "2022-05-18T05:24:10.432310Z",
     "iopub.status.idle": "2022-05-18T05:24:10.436983Z",
     "shell.execute_reply": "2022-05-18T05:24:10.436345Z"
    },
    "papermill": {
     "duration": 0.031352,
     "end_time": "2022-05-18T05:24:10.438709",
     "exception": false,
     "start_time": "2022-05-18T05:24:10.407357",
     "status": "completed"
    },
    "tags": []
   },
   "outputs": [
    {
     "data": {
      "text/plain": [
       "2"
      ]
     },
     "execution_count": 9,
     "metadata": {},
     "output_type": "execute_result"
    }
   ],
   "source": [
    "y.iloc[10000]"
   ]
  },
  {
   "cell_type": "markdown",
   "id": "8dc43b0a",
   "metadata": {
    "papermill": {
     "duration": 0.024631,
     "end_time": "2022-05-18T05:24:10.487857",
     "exception": false,
     "start_time": "2022-05-18T05:24:10.463226",
     "status": "completed"
    },
    "tags": []
   },
   "source": [
    "2 it is !"
   ]
  },
  {
   "cell_type": "markdown",
   "id": "6a782935",
   "metadata": {
    "papermill": {
     "duration": 0.024819,
     "end_time": "2022-05-18T05:24:10.537080",
     "exception": false,
     "start_time": "2022-05-18T05:24:10.512261",
     "status": "completed"
    },
    "tags": []
   },
   "source": [
    "# Train Test Split\n",
    "It splits the train data into 4 parts, X_train, X_test, y_train, y_test.\n",
    "\n",
    "X_train, y_train first used to train the algorithm.\n",
    "X_test is used in that trained algorithms to predict outcomes.\n",
    "Once we get the outcomes, we compare it with y_test"
   ]
  },
  {
   "cell_type": "code",
   "execution_count": 10,
   "id": "0230ccdd",
   "metadata": {
    "execution": {
     "iopub.execute_input": "2022-05-18T05:24:10.587470Z",
     "iopub.status.busy": "2022-05-18T05:24:10.587276Z",
     "iopub.status.idle": "2022-05-18T05:24:11.639479Z",
     "shell.execute_reply": "2022-05-18T05:24:11.638752Z"
    },
    "papermill": {
     "duration": 1.079928,
     "end_time": "2022-05-18T05:24:11.641504",
     "exception": false,
     "start_time": "2022-05-18T05:24:10.561576",
     "status": "completed"
    },
    "tags": []
   },
   "outputs": [
    {
     "data": {
      "text/plain": [
       "22110    9\n",
       "30838    7\n",
       "7119     1\n",
       "40697    1\n",
       "1117     6\n",
       "        ..\n",
       "41667    9\n",
       "22388    5\n",
       "21653    3\n",
       "19552    2\n",
       "30557    4\n",
       "Name: label, Length: 10500, dtype: int64"
      ]
     },
     "execution_count": 10,
     "metadata": {},
     "output_type": "execute_result"
    }
   ],
   "source": [
    "from sklearn.model_selection import train_test_split\n",
    "X_train, X_test, y_train, y_test = train_test_split(X, y, test_size=0.25)\n",
    "# X_train\n",
    "# X_test\n",
    "# y_train\n",
    "y_test"
   ]
  },
  {
   "cell_type": "markdown",
   "id": "e64bcaf7",
   "metadata": {
    "papermill": {
     "duration": 0.027246,
     "end_time": "2022-05-18T05:24:11.694170",
     "exception": false,
     "start_time": "2022-05-18T05:24:11.666924",
     "status": "completed"
    },
    "tags": []
   },
   "source": [
    "# Voting Classifiers\n",
    "\n",
    "A very simple way to create an even better classifier is to aggregate the predictions of each classifier and\n",
    "predict the class that gets the most votes. This majority-vote classifier is called a hard voting classifier\n",
    "\n",
    "Ensemble methods work best when the predictors are as independent from one another as possible. One way to get diverse\n",
    "classifiers is to train them using very different algorithms. This increases the chance that they will make very different types of\n",
    "errors, improving the ensemble’s accuracy."
   ]
  },
  {
   "cell_type": "code",
   "execution_count": 11,
   "id": "26ebf8dd",
   "metadata": {
    "execution": {
     "iopub.execute_input": "2022-05-18T05:24:11.746999Z",
     "iopub.status.busy": "2022-05-18T05:24:11.746766Z",
     "iopub.status.idle": "2022-05-18T05:29:55.280525Z",
     "shell.execute_reply": "2022-05-18T05:29:55.279750Z"
    },
    "papermill": {
     "duration": 343.561746,
     "end_time": "2022-05-18T05:29:55.282344",
     "exception": false,
     "start_time": "2022-05-18T05:24:11.720598",
     "status": "completed"
    },
    "tags": []
   },
   "outputs": [
    {
     "name": "stderr",
     "output_type": "stream",
     "text": [
      "/opt/conda/lib/python3.7/site-packages/sklearn/linear_model/_sag.py:354: ConvergenceWarning: The max_iter was reached which means the coef_ did not converge\n",
      "  ConvergenceWarning,\n"
     ]
    },
    {
     "data": {
      "text/plain": [
       "{'estimators': [('log',\n",
       "   LogisticRegression(l1_ratio=0.5, penalty='elasticnet', solver='saga')),\n",
       "  ('knn', KNeighborsClassifier()),\n",
       "  ('nb', GaussianNB())],\n",
       " 'flatten_transform': True,\n",
       " 'n_jobs': None,\n",
       " 'verbose': False,\n",
       " 'voting': 'hard',\n",
       " 'weights': None,\n",
       " 'log': LogisticRegression(l1_ratio=0.5, penalty='elasticnet', solver='saga'),\n",
       " 'knn': KNeighborsClassifier(),\n",
       " 'nb': GaussianNB(),\n",
       " 'log__C': 1.0,\n",
       " 'log__class_weight': None,\n",
       " 'log__dual': False,\n",
       " 'log__fit_intercept': True,\n",
       " 'log__intercept_scaling': 1,\n",
       " 'log__l1_ratio': 0.5,\n",
       " 'log__max_iter': 100,\n",
       " 'log__multi_class': 'auto',\n",
       " 'log__n_jobs': None,\n",
       " 'log__penalty': 'elasticnet',\n",
       " 'log__random_state': None,\n",
       " 'log__solver': 'saga',\n",
       " 'log__tol': 0.0001,\n",
       " 'log__verbose': 0,\n",
       " 'log__warm_start': False,\n",
       " 'knn__algorithm': 'auto',\n",
       " 'knn__leaf_size': 30,\n",
       " 'knn__metric': 'minkowski',\n",
       " 'knn__metric_params': None,\n",
       " 'knn__n_jobs': None,\n",
       " 'knn__n_neighbors': 5,\n",
       " 'knn__p': 2,\n",
       " 'knn__weights': 'uniform',\n",
       " 'nb__priors': None,\n",
       " 'nb__var_smoothing': 1e-09}"
      ]
     },
     "execution_count": 11,
     "metadata": {},
     "output_type": "execute_result"
    }
   ],
   "source": [
    "from sklearn.ensemble import VotingClassifier\n",
    "from sklearn.linear_model import LogisticRegression\n",
    "from sklearn.neighbors import KNeighborsClassifier\n",
    "from sklearn.naive_bayes import GaussianNB\n",
    "\n",
    "vc=VotingClassifier(voting='hard',estimators=[\n",
    "    ('log',LogisticRegression(penalty='elasticnet',solver='saga',l1_ratio=0.5)),\n",
    "    ('knn',KNeighborsClassifier(n_neighbors=5)),\n",
    "    ('nb',GaussianNB())\n",
    "])\n",
    "\n",
    "# Train the Model\n",
    "vc.fit(X_train,y_train)\n",
    "\n",
    "# Get the Model Parameters\n",
    "vc.get_params(deep=True)"
   ]
  },
  {
   "cell_type": "markdown",
   "id": "6569d3b9",
   "metadata": {
    "papermill": {
     "duration": 0.025674,
     "end_time": "2022-05-18T05:29:55.334220",
     "exception": false,
     "start_time": "2022-05-18T05:29:55.308546",
     "status": "completed"
    },
    "tags": []
   },
   "source": [
    "# Predict using the Trained Model"
   ]
  },
  {
   "cell_type": "code",
   "execution_count": 12,
   "id": "37a5846d",
   "metadata": {
    "execution": {
     "iopub.execute_input": "2022-05-18T05:29:55.386652Z",
     "iopub.status.busy": "2022-05-18T05:29:55.386031Z",
     "iopub.status.idle": "2022-05-18T05:30:10.404474Z",
     "shell.execute_reply": "2022-05-18T05:30:10.403723Z"
    },
    "papermill": {
     "duration": 15.046518,
     "end_time": "2022-05-18T05:30:10.406227",
     "exception": false,
     "start_time": "2022-05-18T05:29:55.359709",
     "status": "completed"
    },
    "tags": []
   },
   "outputs": [
    {
     "data": {
      "text/plain": [
       "array([9, 7, 1, ..., 3, 6, 4])"
      ]
     },
     "execution_count": 12,
     "metadata": {},
     "output_type": "execute_result"
    }
   ],
   "source": [
    "pred=vc.predict(X_test)\n",
    "pred"
   ]
  },
  {
   "cell_type": "markdown",
   "id": "5595b3d6",
   "metadata": {
    "papermill": {
     "duration": 0.025733,
     "end_time": "2022-05-18T05:30:10.458216",
     "exception": false,
     "start_time": "2022-05-18T05:30:10.432483",
     "status": "completed"
    },
    "tags": []
   },
   "source": [
    "# F1-Score"
   ]
  },
  {
   "cell_type": "code",
   "execution_count": 13,
   "id": "24f10268",
   "metadata": {
    "execution": {
     "iopub.execute_input": "2022-05-18T05:30:10.510561Z",
     "iopub.status.busy": "2022-05-18T05:30:10.510339Z",
     "iopub.status.idle": "2022-05-18T05:30:10.521608Z",
     "shell.execute_reply": "2022-05-18T05:30:10.520844Z"
    },
    "papermill": {
     "duration": 0.039489,
     "end_time": "2022-05-18T05:30:10.523354",
     "exception": false,
     "start_time": "2022-05-18T05:30:10.483865",
     "status": "completed"
    },
    "tags": []
   },
   "outputs": [
    {
     "data": {
      "text/plain": [
       "array([0.94181818, 0.95456311, 0.93173891, 0.92489372, 0.94042969,\n",
       "       0.90829215, 0.97167547, 0.94621609, 0.92068429, 0.9202454 ])"
      ]
     },
     "execution_count": 13,
     "metadata": {},
     "output_type": "execute_result"
    }
   ],
   "source": [
    "from sklearn.metrics import f1_score\n",
    "f1_score(y_test, pred,average=None)"
   ]
  },
  {
   "cell_type": "markdown",
   "id": "83b2fe87",
   "metadata": {
    "papermill": {
     "duration": 0.025913,
     "end_time": "2022-05-18T05:30:10.575696",
     "exception": false,
     "start_time": "2022-05-18T05:30:10.549783",
     "status": "completed"
    },
    "tags": []
   },
   "source": [
    "# Suggestions:-\n",
    "* Kaggle - https://www.kaggle.com/pythonkumar\n",
    "* GitHub - https://github.com/KumarPython​\n",
    "* Twitter - https://twitter.com/KumarPython\n",
    "* LinkedIn - https://www.linkedin.com/in/kumarpython/"
   ]
  },
  {
   "cell_type": "markdown",
   "id": "2411163b",
   "metadata": {
    "papermill": {
     "duration": 0.026025,
     "end_time": "2022-05-18T05:30:10.628219",
     "exception": false,
     "start_time": "2022-05-18T05:30:10.602194",
     "status": "completed"
    },
    "tags": []
   },
   "source": [
    "# Submission"
   ]
  },
  {
   "cell_type": "code",
   "execution_count": 14,
   "id": "80ad5c14",
   "metadata": {
    "execution": {
     "iopub.execute_input": "2022-05-18T05:30:10.681615Z",
     "iopub.status.busy": "2022-05-18T05:30:10.681424Z",
     "iopub.status.idle": "2022-05-18T05:30:50.635949Z",
     "shell.execute_reply": "2022-05-18T05:30:50.635208Z"
    },
    "papermill": {
     "duration": 39.983465,
     "end_time": "2022-05-18T05:30:50.637976",
     "exception": false,
     "start_time": "2022-05-18T05:30:10.654511",
     "status": "completed"
    },
    "tags": []
   },
   "outputs": [],
   "source": [
    " submission=pd.DataFrame({'ImageId': pd.Series(range(1,28001)),\n",
    "                         'Label': vc.predict(test)\n",
    "                        })\n",
    "submission\n",
    "submission.to_csv('submission.csv', index=False)"
   ]
  },
  {
   "cell_type": "code",
   "execution_count": null,
   "id": "a1823aa3",
   "metadata": {
    "papermill": {
     "duration": 0.025983,
     "end_time": "2022-05-18T05:30:50.690831",
     "exception": false,
     "start_time": "2022-05-18T05:30:50.664848",
     "status": "completed"
    },
    "tags": []
   },
   "outputs": [],
   "source": []
  }
 ],
 "metadata": {
  "kernelspec": {
   "display_name": "Python 3",
   "language": "python",
   "name": "python3"
  },
  "language_info": {
   "codemirror_mode": {
    "name": "ipython",
    "version": 3
   },
   "file_extension": ".py",
   "mimetype": "text/x-python",
   "name": "python",
   "nbconvert_exporter": "python",
   "pygments_lexer": "ipython3",
   "version": "3.7.12"
  },
  "papermill": {
   "default_parameters": {},
   "duration": 417.038095,
   "end_time": "2022-05-18T05:30:51.235943",
   "environment_variables": {},
   "exception": null,
   "input_path": "__notebook__.ipynb",
   "output_path": "__notebook__.ipynb",
   "parameters": {},
   "start_time": "2022-05-18T05:23:54.197848",
   "version": "2.3.4"
  }
 },
 "nbformat": 4,
 "nbformat_minor": 5
}
